{
  "cells": [
    {
      "cell_type": "markdown",
      "metadata": {},
      "source": [
        "\n# TissueNet\n\nTissueNet is a training dataset for nuclear and whole cell segmentation in tissues published in\nGreenwald, Miller et al. 2022.\n\nThe TissueNet dataset is composed of a train, val, and test split.\n    - The train split is composed of aproximately 2600 images, each of which are 512x512\n      pixels. During training, we select random crops of size 256x256 from each image as\n      a form of data augmentation.\n    - The val split is composed of aproximately 300 images, each of which is originally\n      of size 512x512. However, because we do not perform any augmentation on the\n      validation dataset during training, we reshape these 512x512 images into 256x256\n      images so that no cropping is needed in order to pass them through the model.\n      Finally, we make two copies of the val set at different image resolutions and\n      concatenate them all together, resulting in a total of aproximately 3000 images\n      of size 256x256,\n    - The test split is composed of aproximately 300 images, each of which is originally\n      of size 512x512. However, because the model was trained on images that are size\n      256x256, we reshape these 512x512 images into 256x256 images, resulting in\n      aproximately 1200 images.\n\nChange Log\n    - TissueNet 1.0 (July 2021): The original dataset used for all experiments in\n      Greenwald, Miller at al.\n    - TissueNet 1.1 (April 2022): This version of TissueNet has gone through an additional\n      round of manual QC to ensure consistency in labeling across the entire dataset.\n\nThis dataset is licensed under a modified Apache license for non-commercial academic use only\nhttp://www.github.com/vanvalenlab/deepcell-tf/LICENSE\n\nThe dataset can be accessed using `deepcell.datasets` with a DeepCell API key.\n\nTODO add api key info\n"
      ]
    },
    {
      "cell_type": "code",
      "execution_count": null,
      "metadata": {
        "collapsed": false
      },
      "outputs": [],
      "source": [
        "from deepcell.datasets.tissuenet import TissueNet\n\ntissuenet = TissueNet(version='1.1')\nX_val, y_val, meta_val = tissuenet.load_data(split='val')"
      ]
    }
  ],
  "metadata": {
    "kernelspec": {
      "display_name": "Python 3",
      "language": "python",
      "name": "python3"
    },
    "language_info": {
      "codemirror_mode": {
        "name": "ipython",
        "version": 3
      },
      "file_extension": ".py",
      "mimetype": "text/x-python",
      "name": "python",
      "nbconvert_exporter": "python",
      "pygments_lexer": "ipython3",
      "version": "3.7.16"
    }
  },
  "nbformat": 4,
  "nbformat_minor": 0
}