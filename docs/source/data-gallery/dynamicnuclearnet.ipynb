{
  "cells": [
    {
      "cell_type": "markdown",
      "metadata": {},
      "source": [
        "\n# DynamicNuclearNet\n\nDynamicNuclearNet is a training dataset for nuclear segmentation and tracking published in\nSchwartz et al. 2023. The dataset is made up of two subsets, one for tracking and one for\nsegmentation.\n\nThis dataset is licensed under a modified Apache license for non-commercial academic use only\nhttp://www.github.com/vanvalenlab/deepcell-tf/LICENSE\n\nThe dataset can be accessed using `deepcell.datasets` with a DeepCell API key.\n\nTODO add api key info\n\n## Tracking\nEach batch of the dataset contains three components\n    - X: raw fluorescent nuclear data\n    - y: nuclear segmentation masks\n    - lineages: lineage records including the cell id, frames present and division\n      links from parent to daughter cells\n"
      ]
    },
    {
      "cell_type": "code",
      "execution_count": null,
      "metadata": {
        "collapsed": false
      },
      "outputs": [],
      "source": [
        "from deepcell.datasets.dynamic_nuclear_net import DynamicNuclearNetTracking\n\ndnn_trk = DynamicNuclearNetTracking(version='1.0')\nX_val, y_val, lineage_val = dnn_seg.load_data(split='val')\ndata_source = dnn_seg.load_source_metadata()"
      ]
    },
    {
      "cell_type": "markdown",
      "metadata": {},
      "source": [
        "## Segmentation\nEach batch of the dataset includes three components\n    - X: raw fluorescent nuclear data\n    - y: nuclear segmentation masks\n    - metadata: description of the source of each batch\n\n"
      ]
    },
    {
      "cell_type": "code",
      "execution_count": null,
      "metadata": {
        "collapsed": false
      },
      "outputs": [],
      "source": [
        "from deepcell.datasets.dynamic_nuclear_net import DynamicNuclearNetSegmentation\n\ndnn_seg = DynamicNuclearNetSegmentation(version='1.0')\nX_val, y_val, meta_val = dnn_seg.load_data(split='val')"
      ]
    }
  ],
  "metadata": {
    "kernelspec": {
      "display_name": "Python 3",
      "language": "python",
      "name": "python3"
    },
    "language_info": {
      "codemirror_mode": {
        "name": "ipython",
        "version": 3
      },
      "file_extension": ".py",
      "mimetype": "text/x-python",
      "name": "python",
      "nbconvert_exporter": "python",
      "pygments_lexer": "ipython3",
      "version": "3.7.16"
    }
  },
  "nbformat": 4,
  "nbformat_minor": 0
}