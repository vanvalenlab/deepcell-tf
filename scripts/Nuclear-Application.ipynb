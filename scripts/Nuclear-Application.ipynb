{
 "cells": [
  {
   "cell_type": "markdown",
   "metadata": {
    "nbsphinx": "hidden"
   },
   "source": [
    "This notebook is part of the `deepcell-tf` documentation: https://deepcell.readthedocs.io/."
   ]
  },
  {
   "cell_type": "raw",
   "metadata": {
    "raw_mimetype": "text/restructuredtext"
   },
   "source": [
    "Nuclear segmentation and tracking\n",
    "================================="
   ]
  },
  {
   "cell_type": "code",
   "execution_count": 8,
   "metadata": {},
   "outputs": [],
   "source": [
    "import os\n",
    "import numpy as np\n",
    "\n",
    "import tensorflow as tf\n",
    "gpus = tf.config.experimental.list_physical_devices('GPU')\n",
    "for gpu in gpus:\n",
    "      tf.config.experimental.set_memory_growth(gpu, True)\n",
    "\n",
    "from tensorflow.python.keras import backend as K\n",
    "import imageio\n",
    "import matplotlib.pyplot as plt\n",
    "\n",
    "from deepcell.applications import CellTrackingModel\n",
    "from deepcell.applications import NuclearSegmentation\n",
    "from deepcell_tracking import CellTracker"
   ]
  },
  {
   "cell_type": "raw",
   "metadata": {
    "raw_mimetype": "text/restructuredtext"
   },
   "source": [
    "Prepare nuclear data\n",
    "--------------------\n",
    "Use ``imageio`` to load each frame of a gif to form a test dataset."
   ]
  },
  {
   "cell_type": "code",
   "execution_count": 4,
   "metadata": {
    "raw_mimetype": "text/restructuredtext"
   },
   "outputs": [
    {
     "name": "stdout",
     "output_type": "stream",
     "text": [
      "(71, 512, 512, 1)\n"
     ]
    }
   ],
   "source": [
    "im = imageio.get_reader('../images/raw.gif')\n",
    "\n",
    "mov = []\n",
    "\n",
    "for frame in im:\n",
    "    mov.append(frame)\n",
    "mov = np.stack(mov, axis=0)\n",
    "mov = np.expand_dims(mov, axis=-1)\n",
    "\n",
    "print(mov.shape)"
   ]
  },
  {
   "cell_type": "markdown",
   "metadata": {},
   "source": [
    "![Raw Gif](../images/raw.gif)"
   ]
  },
  {
   "cell_type": "raw",
   "metadata": {
    "raw_mimetype": "text/restructuredtext"
   },
   "source": [
    "Nuclear Segmentation\n",
    "--------------------\n",
    "\n",
    "Initialize nuclear model\n",
    "^^^^^^^^^^^^^^^^^^^^^^^^\n",
    "\n",
    "The application will download pretrained weights for nuclear segmentation. For more information about application objects, please see our `documentation <https://deepcell.readthedocs.io/en/master/API/deepcell.applications.html>`_."
   ]
  },
  {
   "cell_type": "code",
   "execution_count": 5,
   "metadata": {},
   "outputs": [
    {
     "name": "stderr",
     "output_type": "stream",
     "text": [
      "WARNING: Logging before flag parsing goes to stderr.\n",
      "W0413 22:33:28.007619 139651313395520 deprecation.py:506] From /usr/local/lib/python3.6/dist-packages/tensorflow/python/ops/init_ops.py:1251: calling VarianceScaling.__init__ (from tensorflow.python.ops.init_ops) with dtype is deprecated and will be removed in a future version.\n",
      "Instructions for updating:\n",
      "Call initializer instance with the dtype argument instead of passing it to the constructor\n"
     ]
    }
   ],
   "source": [
    "app = NuclearSegmentation()"
   ]
  },
  {
   "cell_type": "raw",
   "metadata": {
    "raw_mimetype": "text/restructuredtext"
   },
   "source": [
    "Use the application to generate labeled images\n",
    "----------------------------------------------\n",
    "\n",
    "Typically, neural networks perform best on test data that is similar to the training data. In the realm of biological imaging, the most common difference between datasets is the resolution of the data measured in microns per pixel. The training resolution of the model can be identified using ``app.model_mpp``."
   ]
  },
  {
   "cell_type": "code",
   "execution_count": 20,
   "metadata": {},
   "outputs": [
    {
     "name": "stdout",
     "output_type": "stream",
     "text": [
      "Training Resolution: 0.65 microns per pixel\n"
     ]
    }
   ],
   "source": [
    "print('Training Resolution:', app.model_mpp, 'microns per pixel')"
   ]
  },
  {
   "cell_type": "raw",
   "metadata": {
    "raw_mimetype": "text/restructuredtext"
   },
   "source": [
    "The resolution of the input data can be specified in ``app.predict`` using the ``image_mpp`` option. The ``Application`` will rescale the input data to match the training resolution and then rescale to the original size before returning the labeled image."
   ]
  },
  {
   "cell_type": "code",
   "execution_count": 6,
   "metadata": {},
   "outputs": [
    {
     "data": {
      "text/plain": [
       "(71, 512, 512, 1)"
      ]
     },
     "execution_count": 6,
     "metadata": {},
     "output_type": "execute_result"
    }
   ],
   "source": [
    "label_mov = app.predict(mov, image_mpp=0.65)\n",
    "label_mov = np.expand_dims(label_mov, axis=-1)\n",
    "label_mov.shape"
   ]
  },
  {
   "cell_type": "raw",
   "metadata": {
     "raw_mimetype": "text/restructuredtext"
   },
   "source": [
    "Save labeled images as a gif to visualize\n",
    "^^^^^^^^^^^^^^^^^^^^^^^^^^^^^^^^^^^^^^^^^"
   ]
  },
  {
   "cell_type": "code",
   "execution_count": 19,
   "metadata": {},
   "outputs": [],
   "source": [
    "def plot(im,vmin,vmax):\n",
    "    fig,ax = plt.subplots(figsize=(6,6))\n",
    "    ax.imshow(im,cmap='jet',vmin=vmin,vmax=vmax)\n",
    "    plt.axis('off')\n",
    "    \n",
    "    fig.canvas.draw()       # draw the canvas, cache the renderer\n",
    "    image = np.frombuffer(fig.canvas.tostring_rgb(), dtype='uint8')\n",
    "    image  = image.reshape(fig.canvas.get_width_height()[::-1] + (3,))\n",
    "    \n",
    "    plt.close(fig)\n",
    "    \n",
    "    return image\n",
    "\n",
    "imageio.mimsave('../images/labeled.gif', [plot(label_mov[i,...,0],\n",
    "                                              np.min(label_mov),\n",
    "                                              np.max(label_mov)) for i in range(label_mov.shape[0])])"
   ]
  },
  {
   "cell_type": "markdown",
   "metadata": {},
   "source": [
    "![Labeled Gif](../images/labeled.gif)"
   ]
  },
  {
   "cell_type": "raw",
   "metadata": {
    "raw_mimetype": "text/restructuredtext"
   },
   "source": [
    "Cell Tracking\n",
    "-------------\n",
    "\n",
    "Normalize raw data to prepare for tracking\n",
    "^^^^^^^^^^^^^^^^^^^^^^^^^^^^^^^^^^^^^^^^^^"
   ]
  },
  {
   "cell_type": "code",
   "execution_count": 28,
   "metadata": {},
   "outputs": [],
   "source": [
    "from deepcell_toolbox.processing import normalize\n",
    "\n",
    "mov = mov.astype('float32')\n",
    "norm_mov = []\n",
    "for frame in range(mov.shape[0]):\n",
    "    f = mov[frame,...,0]\n",
    "    norm_mov.append(normalize(f))\n",
    "    \n",
    "norm_mov = np.stack(norm_mov, axis=0)\n",
    "norm_mov = np.expand_dims(norm_mov, axis=-1)"
   ]
  },
  {
   "cell_type": "raw",
   "metadata": {
    "raw_mimetype": "text/restructuredtext"
   },
   "source": [
    "Initalize tracking model\n",
    "^^^^^^^^^^^^^^^^^^^^^^^^"
   ]
  },
  {
   "cell_type": "code",
   "execution_count": 29,
   "metadata": {},
   "outputs": [],
   "source": [
    "tracking_model = CellTrackingModel()\n",
    "cell_tracker = CellTracker(norm_mov, label_mov, tracking_model, birth=0.99, death=0.99, division=0.9)"
   ]
  },
  {
   "cell_type": "code",
   "execution_count": 30,
   "metadata": {},
   "outputs": [
    {
     "name": "stderr",
     "output_type": "stream",
     "text": [
      "/usr/local/lib/python3.6/dist-packages/deepcell_tracking/tracking.py:721: FutureWarning: The coordinates keyword argument to skimage.measure.regionprops is deprecated. All features are now computed in rc (row-column) coordinates. Please remove `coordinates=\"rc\"` from all calls to regionprops before updating scikit-image.\n",
      "  props = regionprops(np.squeeze(roi), coordinates='rc')[0]\n",
      "/usr/local/lib/python3.6/dist-packages/deepcell_tracking/tracking.py:685: FutureWarning: The coordinates keyword argument to skimage.measure.regionprops is deprecated. All features are now computed in rc (row-column) coordinates. Please remove `coordinates=\"rc\"` from all calls to regionprops before updating scikit-image.\n",
      "  props = regionprops(np.squeeze(roi), coordinates='rc')\n"
     ]
    }
   ],
   "source": [
    "cell_tracker.track_cells()\n",
    "cell_tracker.dump('results.trk')"
   ]
  },
  {
   "cell_type": "raw",
   "metadata": {
    "raw_mimetype": "text/restructuredtext"
   },
   "source": [
    "Visualize tracking results\n",
    "^^^^^^^^^^^^^^^^^^^^^^^^^^"
   ]
  },
  {
   "cell_type": "code",
   "execution_count": 12,
   "metadata": {},
   "outputs": [],
   "source": [
    "# Open the track file\n",
    "from deepcell_tracking.utils import load_trks\n",
    "\n",
    "data = load_trks('results.trk')\n",
    "\n",
    "lineage = data['lineages']  # linage information\n",
    "X = data['X']  # raw X data\n",
    "y = data['y']  # tracked y data"
   ]
  },
  {
   "cell_type": "code",
   "execution_count": 25,
   "metadata": {},
   "outputs": [],
   "source": [
    "def plot(im1,im2,vmin,vmax):\n",
    "    fig,ax = plt.subplots(1,2,figsize=(12,6))\n",
    "    ax[0].imshow(im1)\n",
    "    ax[0].axis('off')\n",
    "    ax[0].set_title('Raw')\n",
    "    ax[1].imshow(im2,cmap='jet',vmin=vmin,vmax=vmax)\n",
    "    ax[1].set_title('Tracked')\n",
    "    ax[1].axis('off')\n",
    "    \n",
    "    fig.canvas.draw()       # draw the canvas, cache the renderer\n",
    "    image = np.frombuffer(fig.canvas.tostring_rgb(), dtype='uint8')\n",
    "    image  = image.reshape(fig.canvas.get_width_height()[::-1] + (3,))\n",
    "    plt.close(fig)\n",
    "    \n",
    "    return image\n",
    "\n",
    "imageio.mimsave('../images/tracks.gif', [plot(X[i,...,0],\n",
    "                                              y[i,...,0],\n",
    "                                              np.min(y),\n",
    "                                              np.max(y)) for i in range(label_mov.shape[0])])"
   ]
  },
  {
   "cell_type": "markdown",
   "metadata": {},
   "source": [
    "![Tracked Gif](../images/tracks.gif)"
   ]
  },
  {
   "cell_type": "code",
   "execution_count": 15,
   "metadata": {},
   "outputs": [],
   "source": [
    "# Save stacks\n",
    "for i in range(X.shape[0]):\n",
    "    if not os.path.isdir('nucleartracks'):\n",
    "        os.mkdir('nucleartracks')\n",
    "    \n",
    "    new_image = X[i,...,0]\n",
    "    imageio.imwrite('nucleartracks/image_%d.tiff' %i, new_image)\n",
    "\n",
    "    label_image = y[i,...,0]\n",
    "    imageio.imwrite('nucleartracks/label_%d.tiff' %i, label_image)"
   ]
  }
 ],
 "metadata": {
  "celltoolbar": "Raw Cell Format",
  "kernelspec": {
   "display_name": "Python 3",
   "language": "python",
   "name": "python3"
  },
  "language_info": {
   "codemirror_mode": {
    "name": "ipython",
    "version": 3
   },
   "file_extension": ".py",
   "mimetype": "text/x-python",
   "name": "python",
   "nbconvert_exporter": "python",
   "pygments_lexer": "ipython3",
   "version": "3.6.8"
  }
 },
 "nbformat": 4,
 "nbformat_minor": 4
}
