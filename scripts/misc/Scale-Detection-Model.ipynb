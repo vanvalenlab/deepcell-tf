{
 "cells": [
  {
   "cell_type": "markdown",
   "metadata": {},
   "source": [
    "# Scale Detection\n",
    "Train a model to detect the scale of an image relative to the scale of the training dataset for a model."
   ]
  },
  {
   "cell_type": "code",
   "execution_count": 1,
   "metadata": {},
   "outputs": [],
   "source": [
    "import os\n",
    "import errno\n",
    "\n",
    "import numpy as np\n",
    "\n",
    "import deepcell"
   ]
  },
  {
   "cell_type": "code",
   "execution_count": 2,
   "metadata": {},
   "outputs": [],
   "source": [
    "# Set up some global constants and shared filepaths\n",
    "\n",
    "SEED = 123  # random seed for splitting data into train/test\n",
    "\n",
    "ROOT_DIR = '/data'  # TODO: Change this! Usually a mounted volume\n",
    "DATA_DIR = os.path.expanduser(os.path.join('~', '.keras', 'datasets'))\n",
    "MODEL_DIR = os.path.abspath(os.path.join(ROOT_DIR, 'models'))\n",
    "LOG_DIR = os.path.abspath(os.path.join(ROOT_DIR, 'logs'))\n",
    "\n",
    "MODEL_NAME = 'ScaleDetectionModel'\n",
    "\n",
    "MODEL_PATH = os.path.join(MODEL_DIR, MODEL_NAME + '.h5')\n",
    "\n",
    "# create directories if they do not exist\n",
    "for d in (MODEL_DIR, LOG_DIR):\n",
    "    try:\n",
    "        os.makedirs(d)\n",
    "    except OSError as exc:  # Guard against race condition\n",
    "        if exc.errno != errno.EEXIST:\n",
    "            raise"
   ]
  },
  {
   "cell_type": "markdown",
   "metadata": {},
   "source": [
    "## Load the training data\n",
    "\n",
    "Download data for nuclear, brightfield and fluorescent cytoplasm from `deepcell.datasets` and combine the data into a single training dataset."
   ]
  },
  {
   "cell_type": "code",
   "execution_count": 3,
   "metadata": {},
   "outputs": [],
   "source": [
    "# First, download the data from deepcell.datasets\n",
    "import deepcell.datasets\n",
    "\n",
    "# nuclear data (label type 0)\n",
    "(X_train, y_train), (X_test, y_test) = deepcell.datasets.hela_s3.load_data(seed=SEED)\n",
    "nuclear_train = {'X': X_train, 'y': y_train}\n",
    "nuclear_test = {'X': X_test, 'y': y_test}"
   ]
  },
  {
   "cell_type": "code",
   "execution_count": 4,
   "metadata": {},
   "outputs": [],
   "source": [
    "# brightfield phase data (label type 1)\n",
    "(X_train, y_train), (X_test, y_test) = deepcell.datasets.phase.HeLa_S3.load_data(seed=SEED)\n",
    "brightfield_train = {'X': X_train, 'y': y_train}\n",
    "brightfield_test = {'X': X_test, 'y': y_test}"
   ]
  },
  {
   "cell_type": "code",
   "execution_count": 5,
   "metadata": {},
   "outputs": [],
   "source": [
    "# flourescent cytoplasm data (label type 2)\n",
    "(X_train, y_train), (X_test, y_test) = deepcell.datasets.cytoplasm.hela_s3.load_data(seed=SEED)\n",
    "flourescent_train = {'X': X_train, 'y': y_train}\n",
    "flourescent_test = {'X': X_test, 'y': y_test}"
   ]
  },
  {
   "cell_type": "markdown",
   "metadata": {},
   "source": [
    "### Flatten All Datasets into 2D and Combine"
   ]
  },
  {
   "cell_type": "code",
   "execution_count": 6,
   "metadata": {},
   "outputs": [
    {
     "name": "stdout",
     "output_type": "stream",
     "text": [
      "Reshaped feature data from (5760, 216, 256, 1) to (5760, 216, 216, 1)\n",
      "Reshaped training data from (5760, 216, 256, 1) to (5760, 216, 216, 1)\n",
      "Reshaped feature data from (1440, 216, 256, 1) to (1440, 216, 216, 1)\n",
      "Reshaped training data from (1440, 216, 256, 1) to (1440, 216, 216, 1)\n",
      "Reshaped feature data from (1651, 512, 512, 1) to (14859, 216, 216, 1)\n",
      "Reshaped training data from (1651, 512, 512, 1) to (14859, 216, 216, 1)\n",
      "Reshaped feature data from (413, 512, 512, 1) to (3717, 216, 216, 1)\n",
      "Reshaped training data from (413, 512, 512, 1) to (3717, 216, 216, 1)\n",
      "Reshaped feature data from (1651, 512, 512, 1) to (14859, 216, 216, 1)\n",
      "Reshaped training data from (1651, 512, 512, 1) to (14859, 216, 216, 1)\n",
      "Reshaped feature data from (413, 512, 512, 1) to (3717, 216, 216, 1)\n",
      "Reshaped training data from (413, 512, 512, 1) to (3717, 216, 216, 1)\n"
     ]
    }
   ],
   "source": [
    "# Reshape each dataset to conform to the minimum size of 216\n",
    "from deepcell.utils.data_utils import reshape_matrix\n",
    "\n",
    "RESHAPE_SIZE = 216\n",
    "\n",
    "all_train = [nuclear_train, brightfield_train, flourescent_train]\n",
    "all_test = [nuclear_test, brightfield_test, flourescent_test]\n",
    "\n",
    "for train, test in zip(all_train, all_test):\n",
    "    train['X'], train['y'] = reshape_matrix(train['X'], train['y'], RESHAPE_SIZE)\n",
    "    test['X'], test['y'] = reshape_matrix(test['X'], test['y'], RESHAPE_SIZE)"
   ]
  },
  {
   "cell_type": "code",
   "execution_count": 7,
   "metadata": {},
   "outputs": [],
   "source": [
    "# Stack up our data as train and test\n",
    "X_train = np.vstack([\n",
    "    nuclear_train['X'],\n",
    "    brightfield_train['X'],\n",
    "    flourescent_train['X']\n",
    "])\n",
    "\n",
    "y_train = np.vstack([\n",
    "    nuclear_train['y'],\n",
    "    brightfield_train['y'],\n",
    "    flourescent_train['y']\n",
    "])\n",
    "\n",
    "X_test = np.vstack([\n",
    "    nuclear_test['X'],\n",
    "    brightfield_test['X'],\n",
    "    flourescent_test['X']\n",
    "])\n",
    "\n",
    "y_test = np.vstack([\n",
    "    nuclear_test['y'],\n",
    "    brightfield_test['y'],\n",
    "    flourescent_test['y']\n",
    "])"
   ]
  },
  {
   "cell_type": "markdown",
   "metadata": {},
   "source": [
    "## Create the Scale Detection Model\n",
    "\n",
    "We are using the ScaleDetectionModel from `deepcell.applications`"
   ]
  },
  {
   "cell_type": "code",
   "execution_count": 8,
   "metadata": {},
   "outputs": [
    {
     "name": "stdout",
     "output_type": "stream",
     "text": [
      "_________________________________________________________________\n",
      "Layer (type)                 Output Shape              Param #   \n",
      "=================================================================\n",
      "input_1 (InputLayer)         (None, 216, 216, 1)       0         \n",
      "_________________________________________________________________\n",
      "image_normalization2d (Image (None, 216, 216, 1)       3721      \n",
      "_________________________________________________________________\n",
      "tensor_product (TensorProduc (None, 216, 216, 3)       6         \n",
      "_________________________________________________________________\n",
      "block1_conv1 (Conv2D)        (None, 216, 216, 64)      1792      \n",
      "_________________________________________________________________\n",
      "block1_conv2 (Conv2D)        (None, 216, 216, 64)      36928     \n",
      "_________________________________________________________________\n",
      "block1_pool (MaxPooling2D)   (None, 108, 108, 64)      0         \n",
      "_________________________________________________________________\n",
      "block2_conv1 (Conv2D)        (None, 108, 108, 128)     73856     \n",
      "_________________________________________________________________\n",
      "block2_conv2 (Conv2D)        (None, 108, 108, 128)     147584    \n",
      "_________________________________________________________________\n",
      "block2_pool (MaxPooling2D)   (None, 54, 54, 128)       0         \n",
      "_________________________________________________________________\n",
      "block3_conv1 (Conv2D)        (None, 54, 54, 256)       295168    \n",
      "_________________________________________________________________\n",
      "block3_conv2 (Conv2D)        (None, 54, 54, 256)       590080    \n",
      "_________________________________________________________________\n",
      "block3_conv3 (Conv2D)        (None, 54, 54, 256)       590080    \n",
      "_________________________________________________________________\n",
      "block3_pool (MaxPooling2D)   (None, 27, 27, 256)       0         \n",
      "_________________________________________________________________\n",
      "block4_conv1 (Conv2D)        (None, 27, 27, 512)       1180160   \n",
      "_________________________________________________________________\n",
      "block4_conv2 (Conv2D)        (None, 27, 27, 512)       2359808   \n",
      "_________________________________________________________________\n",
      "block4_conv3 (Conv2D)        (None, 27, 27, 512)       2359808   \n",
      "_________________________________________________________________\n",
      "block4_pool (MaxPooling2D)   (None, 13, 13, 512)       0         \n",
      "_________________________________________________________________\n",
      "block5_conv1 (Conv2D)        (None, 13, 13, 512)       2359808   \n",
      "_________________________________________________________________\n",
      "block5_conv2 (Conv2D)        (None, 13, 13, 512)       2359808   \n",
      "_________________________________________________________________\n",
      "block5_conv3 (Conv2D)        (None, 13, 13, 512)       2359808   \n",
      "_________________________________________________________________\n",
      "block5_pool (MaxPooling2D)   (None, 6, 6, 512)         0         \n",
      "_________________________________________________________________\n",
      "average_pooling2d (AveragePo (None, 1, 1, 512)         0         \n",
      "_________________________________________________________________\n",
      "tensor_product_1 (TensorProd (None, 1, 1, 256)         131328    \n",
      "_________________________________________________________________\n",
      "tensor_product_2 (TensorProd (None, 1, 1, 1)           257       \n",
      "_________________________________________________________________\n",
      "flatten (Flatten)            (None, 1)                 0         \n",
      "_________________________________________________________________\n",
      "activation (Activation)      (None, 1)                 0         \n",
      "=================================================================\n",
      "Total params: 14,850,000\n",
      "Trainable params: 14,846,279\n",
      "Non-trainable params: 3,721\n",
      "_________________________________________________________________\n"
     ]
    }
   ],
   "source": [
    "from deepcell.applications import ScaleDetectionModel\n",
    "\n",
    "# set use_pretrained_weights to False to retrain from scratch\n",
    "model = ScaleDetectionModel(input_shape=X_train.shape[1:], use_pretrained_weights=False)\n",
    "\n",
    "model.summary()"
   ]
  },
  {
   "cell_type": "code",
   "execution_count": 9,
   "metadata": {},
   "outputs": [],
   "source": [
    "from tensorflow.keras.optimizers import SGD, Adam\n",
    "from deepcell.utils.train_utils import rate_scheduler\n",
    "\n",
    "n_epoch = 20\n",
    "batch_size = 64\n",
    "lr = 1e-3\n",
    "\n",
    "optimizer = Adam(lr=lr, clipnorm=.001)\n",
    "lr_sched = rate_scheduler(lr=lr, decay=0.9)\n",
    "\n",
    "model.compile(optimizer, loss='mse', metrics=['mae', 'mape'])"
   ]
  },
  {
   "cell_type": "markdown",
   "metadata": {},
   "source": [
    "## Train the Model\n",
    "\n",
    "Create the ImageDataGenerators and pass them to `model.fit_generator`."
   ]
  },
  {
   "cell_type": "code",
   "execution_count": 10,
   "metadata": {},
   "outputs": [],
   "source": [
    "from deepcell.image_generators import ScaleDataGenerator\n",
    "\n",
    "# Create the image data generator for training\n",
    "\n",
    "generator = ScaleDataGenerator(\n",
    "    rotation_range=180,\n",
    "    horizontal_flip=True,\n",
    "    vertical_flip=True,\n",
    "    zoom_range=(0.5, 2)\n",
    ")"
   ]
  },
  {
   "cell_type": "code",
   "execution_count": 11,
   "metadata": {
    "scrolled": true
   },
   "outputs": [
    {
     "name": "stdout",
     "output_type": "stream",
     "text": [
      "Epoch 1/20\n",
      "553/554 [============================>.] - ETA: 0s - loss: 1.5641 - mean_absolute_error: 0.4570 - mean_absolute_percentage_error: 39.9545\n",
      "Epoch 00001: val_loss improved from inf to 0.11952, saving model to /data/models/ScaleDetectionModel.h5\n",
      "554/554 [==============================] - 204s 368ms/step - loss: 1.5614 - mean_absolute_error: 0.4566 - mean_absolute_percentage_error: 39.9128 - val_loss: 0.1195 - val_mean_absolute_error: 0.2878 - val_mean_absolute_percentage_error: 27.5677\n",
      "Epoch 2/20\n",
      "553/554 [============================>.] - ETA: 0s - loss: 0.0890 - mean_absolute_error: 0.2369 - mean_absolute_percentage_error: 19.9065\n",
      "Epoch 00002: val_loss improved from 0.11952 to 0.03880, saving model to /data/models/ScaleDetectionModel.h5\n",
      "554/554 [==============================] - 193s 348ms/step - loss: 0.0890 - mean_absolute_error: 0.2369 - mean_absolute_percentage_error: 19.9082 - val_loss: 0.0388 - val_mean_absolute_error: 0.1572 - val_mean_absolute_percentage_error: 14.2712\n",
      "Epoch 3/20\n",
      "553/554 [============================>.] - ETA: 0s - loss: 0.0497 - mean_absolute_error: 0.1767 - mean_absolute_percentage_error: 14.6097\n",
      "Epoch 00003: val_loss improved from 0.03880 to 0.02188, saving model to /data/models/ScaleDetectionModel.h5\n",
      "554/554 [==============================] - 193s 348ms/step - loss: 0.0496 - mean_absolute_error: 0.1766 - mean_absolute_percentage_error: 14.6036 - val_loss: 0.0219 - val_mean_absolute_error: 0.1159 - val_mean_absolute_percentage_error: 9.6286\n",
      "Epoch 4/20\n",
      "553/554 [============================>.] - ETA: 0s - loss: 0.0427 - mean_absolute_error: 0.1569 - mean_absolute_percentage_error: 12.7489\n",
      "Epoch 00004: val_loss improved from 0.02188 to 0.01578, saving model to /data/models/ScaleDetectionModel.h5\n",
      "554/554 [==============================] - 193s 348ms/step - loss: 0.0428 - mean_absolute_error: 0.1570 - mean_absolute_percentage_error: 12.7545 - val_loss: 0.0158 - val_mean_absolute_error: 0.0962 - val_mean_absolute_percentage_error: 8.1363\n",
      "Epoch 5/20\n",
      "553/554 [============================>.] - ETA: 0s - loss: 0.0294 - mean_absolute_error: 0.1348 - mean_absolute_percentage_error: 10.7259\n",
      "Epoch 00005: val_loss did not improve from 0.01578\n",
      "554/554 [==============================] - 192s 347ms/step - loss: 0.0294 - mean_absolute_error: 0.1347 - mean_absolute_percentage_error: 10.7235 - val_loss: 0.0158 - val_mean_absolute_error: 0.0987 - val_mean_absolute_percentage_error: 8.6402\n",
      "Epoch 6/20\n",
      "553/554 [============================>.] - ETA: 0s - loss: 0.0127 - mean_absolute_error: 0.0864 - mean_absolute_percentage_error: 6.9034\n",
      "Epoch 00006: val_loss improved from 0.01578 to 0.00713, saving model to /data/models/ScaleDetectionModel.h5\n",
      "554/554 [==============================] - 193s 349ms/step - loss: 0.0127 - mean_absolute_error: 0.0863 - mean_absolute_percentage_error: 6.9006 - val_loss: 0.0071 - val_mean_absolute_error: 0.0645 - val_mean_absolute_percentage_error: 5.1132\n",
      "Epoch 7/20\n",
      "553/554 [============================>.] - ETA: 0s - loss: 0.0100 - mean_absolute_error: 0.0748 - mean_absolute_percentage_error: 6.0000\n",
      "Epoch 00007: val_loss improved from 0.00713 to 0.00398, saving model to /data/models/ScaleDetectionModel.h5\n",
      "554/554 [==============================] - 193s 349ms/step - loss: 0.0100 - mean_absolute_error: 0.0747 - mean_absolute_percentage_error: 5.9961 - val_loss: 0.0040 - val_mean_absolute_error: 0.0461 - val_mean_absolute_percentage_error: 3.7888\n",
      "Epoch 8/20\n",
      "553/554 [============================>.] - ETA: 0s - loss: 0.0077 - mean_absolute_error: 0.0656 - mean_absolute_percentage_error: 5.2471\n",
      "Epoch 00008: val_loss improved from 0.00398 to 0.00274, saving model to /data/models/ScaleDetectionModel.h5\n",
      "554/554 [==============================] - 194s 350ms/step - loss: 0.0077 - mean_absolute_error: 0.0656 - mean_absolute_percentage_error: 5.2484 - val_loss: 0.0027 - val_mean_absolute_error: 0.0374 - val_mean_absolute_percentage_error: 3.0679\n",
      "Epoch 9/20\n",
      "553/554 [============================>.] - ETA: 0s - loss: 0.0084 - mean_absolute_error: 0.0677 - mean_absolute_percentage_error: 5.4442\n",
      "Epoch 00009: val_loss did not improve from 0.00274\n",
      "554/554 [==============================] - 192s 347ms/step - loss: 0.0084 - mean_absolute_error: 0.0676 - mean_absolute_percentage_error: 5.4408 - val_loss: 0.0047 - val_mean_absolute_error: 0.0550 - val_mean_absolute_percentage_error: 4.8844\n",
      "Epoch 10/20\n",
      "553/554 [============================>.] - ETA: 0s - loss: 0.0059 - mean_absolute_error: 0.0572 - mean_absolute_percentage_error: 4.6118\n",
      "Epoch 00010: val_loss did not improve from 0.00274\n",
      "554/554 [==============================] - 192s 347ms/step - loss: 0.0059 - mean_absolute_error: 0.0572 - mean_absolute_percentage_error: 4.6110 - val_loss: 0.0042 - val_mean_absolute_error: 0.0449 - val_mean_absolute_percentage_error: 3.6900\n",
      "Epoch 11/20\n",
      "553/554 [============================>.] - ETA: 0s - loss: 0.0072 - mean_absolute_error: 0.0651 - mean_absolute_percentage_error: 5.2243\n",
      "Epoch 00011: val_loss did not improve from 0.00274\n",
      "554/554 [==============================] - 192s 346ms/step - loss: 0.0072 - mean_absolute_error: 0.0652 - mean_absolute_percentage_error: 5.2258 - val_loss: 0.0082 - val_mean_absolute_error: 0.0766 - val_mean_absolute_percentage_error: 6.0288\n",
      "Epoch 12/20\n",
      "553/554 [============================>.] - ETA: 0s - loss: 0.0046 - mean_absolute_error: 0.0504 - mean_absolute_percentage_error: 4.1133\n",
      "Epoch 00012: val_loss did not improve from 0.00274\n",
      "554/554 [==============================] - 194s 350ms/step - loss: 0.0046 - mean_absolute_error: 0.0504 - mean_absolute_percentage_error: 4.1100 - val_loss: 0.0061 - val_mean_absolute_error: 0.0606 - val_mean_absolute_percentage_error: 4.7722\n",
      "Epoch 13/20\n",
      "553/554 [============================>.] - ETA: 0s - loss: 0.0032 - mean_absolute_error: 0.0426 - mean_absolute_percentage_error: 3.5046\n",
      "Epoch 00013: val_loss did not improve from 0.00274\n",
      "554/554 [==============================] - 192s 347ms/step - loss: 0.0032 - mean_absolute_error: 0.0426 - mean_absolute_percentage_error: 3.5050 - val_loss: 0.0072 - val_mean_absolute_error: 0.0665 - val_mean_absolute_percentage_error: 4.9948\n",
      "Epoch 14/20\n",
      "553/554 [============================>.] - ETA: 0s - loss: 0.0041 - mean_absolute_error: 0.0487 - mean_absolute_percentage_error: 3.9318\n",
      "Epoch 00014: val_loss did not improve from 0.00274\n",
      "554/554 [==============================] - 192s 347ms/step - loss: 0.0041 - mean_absolute_error: 0.0487 - mean_absolute_percentage_error: 3.9299 - val_loss: 0.0043 - val_mean_absolute_error: 0.0526 - val_mean_absolute_percentage_error: 4.1217\n",
      "Epoch 15/20\n",
      "553/554 [============================>.] - ETA: 0s - loss: 0.0032 - mean_absolute_error: 0.0429 - mean_absolute_percentage_error: 3.5035\n",
      "Epoch 00015: val_loss did not improve from 0.00274\n",
      "554/554 [==============================] - 192s 347ms/step - loss: 0.0032 - mean_absolute_error: 0.0429 - mean_absolute_percentage_error: 3.5037 - val_loss: 0.0040 - val_mean_absolute_error: 0.0521 - val_mean_absolute_percentage_error: 4.2272\n",
      "Epoch 16/20\n",
      "553/554 [============================>.] - ETA: 0s - loss: 0.0022 - mean_absolute_error: 0.0355 - mean_absolute_percentage_error: 2.9299\n",
      "Epoch 00016: val_loss improved from 0.00274 to 0.00123, saving model to /data/models/ScaleDetectionModel.h5\n",
      "554/554 [==============================] - 193s 348ms/step - loss: 0.0022 - mean_absolute_error: 0.0355 - mean_absolute_percentage_error: 2.9287 - val_loss: 0.0012 - val_mean_absolute_error: 0.0255 - val_mean_absolute_percentage_error: 2.1708\n",
      "Epoch 17/20\n",
      "553/554 [============================>.] - ETA: 0s - loss: 0.0020 - mean_absolute_error: 0.0345 - mean_absolute_percentage_error: 2.8422\n",
      "Epoch 00017: val_loss improved from 0.00123 to 0.00106, saving model to /data/models/ScaleDetectionModel.h5\n",
      "554/554 [==============================] - 194s 350ms/step - loss: 0.0020 - mean_absolute_error: 0.0345 - mean_absolute_percentage_error: 2.8415 - val_loss: 0.0011 - val_mean_absolute_error: 0.0244 - val_mean_absolute_percentage_error: 2.1110\n",
      "Epoch 18/20\n"
     ]
    },
    {
     "name": "stdout",
     "output_type": "stream",
     "text": [
      "553/554 [============================>.] - ETA: 0s - loss: 0.0016 - mean_absolute_error: 0.0296 - mean_absolute_percentage_error: 2.4865\n",
      "Epoch 00018: val_loss did not improve from 0.00106\n",
      "554/554 [==============================] - 192s 346ms/step - loss: 0.0016 - mean_absolute_error: 0.0296 - mean_absolute_percentage_error: 2.4859 - val_loss: 0.0016 - val_mean_absolute_error: 0.0302 - val_mean_absolute_percentage_error: 2.4953\n",
      "Epoch 19/20\n",
      "553/554 [============================>.] - ETA: 0s - loss: 0.0017 - mean_absolute_error: 0.0313 - mean_absolute_percentage_error: 2.5904\n",
      "Epoch 00019: val_loss improved from 0.00106 to 0.00097, saving model to /data/models/ScaleDetectionModel.h5\n",
      "554/554 [==============================] - 193s 349ms/step - loss: 0.0017 - mean_absolute_error: 0.0313 - mean_absolute_percentage_error: 2.5913 - val_loss: 9.6706e-04 - val_mean_absolute_error: 0.0237 - val_mean_absolute_percentage_error: 2.0445\n",
      "Epoch 20/20\n",
      "553/554 [============================>.] - ETA: 0s - loss: 0.0016 - mean_absolute_error: 0.0303 - mean_absolute_percentage_error: 2.5073\n",
      "Epoch 00020: val_loss improved from 0.00097 to 0.00081, saving model to /data/models/ScaleDetectionModel.h5\n",
      "554/554 [==============================] - 193s 349ms/step - loss: 0.0016 - mean_absolute_error: 0.0303 - mean_absolute_percentage_error: 2.5075 - val_loss: 8.0760e-04 - val_mean_absolute_error: 0.0213 - val_mean_absolute_percentage_error: 1.8457\n"
     ]
    },
    {
     "data": {
      "text/plain": [
       "<tensorflow.python.keras.callbacks.History at 0x7f8e5c723208>"
      ]
     },
     "execution_count": 11,
     "metadata": {},
     "output_type": "execute_result"
    }
   ],
   "source": [
    "from tensorflow.python.keras import callbacks\n",
    "\n",
    "model.fit_generator(\n",
    "    generator.flow({'X': X_train, 'y': y_train}, batch_size=batch_size),\n",
    "    steps_per_epoch=X_train.shape[0] // batch_size,\n",
    "    epochs=n_epoch,\n",
    "    validation_data=generator.flow({'X': X_test, 'y': y_test}, batch_size=batch_size),\n",
    "    validation_steps=X_test.shape[0] // batch_size,\n",
    "    callbacks=[\n",
    "        callbacks.LearningRateScheduler(lr_sched),\n",
    "        callbacks.ModelCheckpoint(\n",
    "            os.path.join(MODEL_DIR, MODEL_NAME + '.h5'),\n",
    "            verbose=1,\n",
    "            monitor='val_loss',\n",
    "            save_best_only=True)\n",
    "    ]\n",
    ")"
   ]
  },
  {
   "cell_type": "markdown",
   "metadata": {},
   "source": [
    "## Run the model on test data\n",
    "\n",
    "Run the model on validation data and visualize the performance."
   ]
  },
  {
   "cell_type": "code",
   "execution_count": 12,
   "metadata": {},
   "outputs": [
    {
     "name": "stdout",
     "output_type": "stream",
     "text": [
      ".........."
     ]
    }
   ],
   "source": [
    "model.load_weights(os.path.join(MODEL_DIR, MODEL_NAME + '.h5'))\n",
    "\n",
    "test_data = generator.flow({'X': X_test, 'y': y_test}, batch_size=1)\n",
    "\n",
    "true, pred = [], []\n",
    "for i in range(1000):\n",
    "    if i % 100 == 0:\n",
    "        print(\".\", end=\"\")\n",
    "\n",
    "    X, y = test_data.next()\n",
    "    true.append(y)\n",
    "    pred.append(model.predict(X))\n",
    "    \n",
    "true = np.array(true)\n",
    "pred = np.array(pred)"
   ]
  },
  {
   "cell_type": "code",
   "execution_count": 13,
   "metadata": {},
   "outputs": [
    {
     "data": {
      "text/plain": [
       "Text(0, 0.5, 'Error')"
      ]
     },
     "execution_count": 13,
     "metadata": {},
     "output_type": "execute_result"
    },
    {
     "data": {
      "image/png": "[encoded data removed]",
      "text/plain": [
       "<Figure size 432x288 with 1 Axes>"
      ]
     },
     "metadata": {
      "needs_background": "light"
     },
     "output_type": "display_data"
    }
   ],
   "source": [
    "import matplotlib.pyplot as plt\n",
    "\n",
    "fig, ax = plt.subplots()\n",
    "\n",
    "ax.scatter(true, pred - true)\n",
    "ax.set_xlabel('True Zoom')\n",
    "ax.set_ylabel('Error')"
   ]
  },
  {
   "cell_type": "code",
   "execution_count": null,
   "metadata": {},
   "outputs": [],
   "source": []
  }
 ],
 "metadata": {
  "kernelspec": {
   "display_name": "Python 3",
   "language": "python",
   "name": "python3"
  },
  "language_info": {
   "codemirror_mode": {
    "name": "ipython",
    "version": 3
   },
   "file_extension": ".py",
   "mimetype": "text/x-python",
   "name": "python",
   "nbconvert_exporter": "python",
   "pygments_lexer": "ipython3",
   "version": "3.5.2"
  }
 },
 "nbformat": 4,
 "nbformat_minor": 2
}
