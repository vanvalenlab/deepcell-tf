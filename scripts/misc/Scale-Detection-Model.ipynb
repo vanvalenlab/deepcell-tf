{
 "cells": [
  {
   "cell_type": "markdown",
   "metadata": {},
   "source": [
    "# Scale Detection\n",
    "Train a model to detect the scale of an image relative to the scale of the training dataset for a model."
   ]
  },
  {
   "cell_type": "code",
   "execution_count": 1,
   "metadata": {},
   "outputs": [],
   "source": [
    "import os\n",
    "import errno\n",
    "\n",
    "import numpy as np\n",
    "\n",
    "import deepcell"
   ]
  },
  {
   "cell_type": "code",
   "execution_count": 2,
   "metadata": {},
   "outputs": [],
   "source": [
    "# Set up some global constants and shared filepaths\n",
    "\n",
    "SEED = 123  # random seed for splitting data into train/test\n",
    "\n",
    "ROOT_DIR = '/data'  # TODO: Change this! Usually a mounted volume\n",
    "DATA_DIR = os.path.expanduser(os.path.join('~', '.keras', 'datasets'))\n",
    "MODEL_DIR = os.path.abspath(os.path.join(ROOT_DIR, 'models'))\n",
    "LOG_DIR = os.path.abspath(os.path.join(ROOT_DIR, 'logs'))\n",
    "\n",
    "MODEL_NAME = 'ScaleDetectionModel'\n",
    "\n",
    "MODEL_PATH = os.path.join(MODEL_DIR, MODEL_NAME + '.h5')\n",
    "\n",
    "# create directories if they do not exist\n",
    "for d in (MODEL_DIR, LOG_DIR):\n",
    "    try:\n",
    "        os.makedirs(d)\n",
    "    except OSError as exc:  # Guard against race condition\n",
    "        if exc.errno != errno.EEXIST:\n",
    "            raise"
   ]
  },
  {
   "cell_type": "markdown",
   "metadata": {},
   "source": [
    "## Load the training data\n",
    "\n",
    "Download data for nuclear, brightfield and fluorescent cytoplasm from `deepcell.datasets` and combine the data into a single training dataset."
   ]
  },
  {
   "cell_type": "code",
   "execution_count": 3,
   "metadata": {},
   "outputs": [],
   "source": [
    "# First, download the data from deepcell.datasets\n",
    "import deepcell.datasets\n",
    "\n",
    "# nuclear data (label type 0)\n",
    "(X_train, y_train), (X_test, y_test) = deepcell.datasets.hela_s3.load_data(seed=SEED)\n",
    "nuclear_train = {'X': X_train, 'y': y_train}\n",
    "nuclear_test = {'X': X_test, 'y': y_test}"
   ]
  },
  {
   "cell_type": "code",
   "execution_count": 4,
   "metadata": {},
   "outputs": [],
   "source": [
    "# brightfield phase data (label type 1)\n",
    "(X_train, y_train), (X_test, y_test) = deepcell.datasets.phase.HeLa_S3.load_data(seed=SEED)\n",
    "brightfield_train = {'X': X_train, 'y': y_train}\n",
    "brightfield_test = {'X': X_test, 'y': y_test}"
   ]
  },
  {
   "cell_type": "code",
   "execution_count": 5,
   "metadata": {},
   "outputs": [],
   "source": [
    "# flourescent cytoplasm data (label type 2)\n",
    "(X_train, y_train), (X_test, y_test) = deepcell.datasets.cytoplasm.hela_s3.load_data(seed=SEED)\n",
    "flourescent_train = {'X': X_train, 'y': y_train}\n",
    "flourescent_test = {'X': X_test, 'y': y_test}"
   ]
  },
  {
   "cell_type": "markdown",
   "metadata": {},
   "source": [
    "### Flatten All Datasets into 2D and Combine"
   ]
  },
  {
   "cell_type": "code",
   "execution_count": 6,
   "metadata": {},
   "outputs": [
    {
     "name": "stdout",
     "output_type": "stream",
     "text": [
      "Reshaped feature data from (5760, 216, 256, 1) to (5760, 216, 216, 1)\n",
      "Reshaped training data from (5760, 216, 256, 1) to (5760, 216, 216, 1)\n",
      "Reshaped feature data from (1440, 216, 256, 1) to (1440, 216, 216, 1)\n",
      "Reshaped training data from (1440, 216, 256, 1) to (1440, 216, 216, 1)\n",
      "Reshaped feature data from (1651, 512, 512, 1) to (14859, 216, 216, 1)\n",
      "Reshaped training data from (1651, 512, 512, 1) to (14859, 216, 216, 1)\n",
      "Reshaped feature data from (413, 512, 512, 1) to (3717, 216, 216, 1)\n",
      "Reshaped training data from (413, 512, 512, 1) to (3717, 216, 216, 1)\n",
      "Reshaped feature data from (1651, 512, 512, 1) to (14859, 216, 216, 1)\n",
      "Reshaped training data from (1651, 512, 512, 1) to (14859, 216, 216, 1)\n",
      "Reshaped feature data from (413, 512, 512, 1) to (3717, 216, 216, 1)\n",
      "Reshaped training data from (413, 512, 512, 1) to (3717, 216, 216, 1)\n"
     ]
    }
   ],
   "source": [
    "# Reshape each dataset to conform to the minimum size of 216\n",
    "from deepcell.utils.data_utils import reshape_matrix\n",
    "\n",
    "RESHAPE_SIZE = 216\n",
    "\n",
    "all_train = [nuclear_train, brightfield_train, flourescent_train]\n",
    "all_test = [nuclear_test, brightfield_test, flourescent_test]\n",
    "\n",
    "for train, test in zip(all_train, all_test):\n",
    "    train['X'], train['y'] = reshape_matrix(train['X'], train['y'], RESHAPE_SIZE)\n",
    "    test['X'], test['y'] = reshape_matrix(test['X'], test['y'], RESHAPE_SIZE)"
   ]
  },
  {
   "cell_type": "code",
   "execution_count": 7,
   "metadata": {},
   "outputs": [],
   "source": [
    "# Stack up our data as train and test\n",
    "X_train = np.vstack([\n",
    "    nuclear_train['X'],\n",
    "    brightfield_train['X'],\n",
    "    flourescent_train['X']\n",
    "])\n",
    "\n",
    "y_train = np.vstack([\n",
    "    nuclear_train['y'],\n",
    "    brightfield_train['y'],\n",
    "    flourescent_train['y']\n",
    "])\n",
    "\n",
    "X_test = np.vstack([\n",
    "    nuclear_test['X'],\n",
    "    brightfield_test['X'],\n",
    "    flourescent_test['X']\n",
    "])\n",
    "\n",
    "y_test = np.vstack([\n",
    "    nuclear_test['y'],\n",
    "    brightfield_test['y'],\n",
    "    flourescent_test['y']\n",
    "])"
   ]
  },
  {
   "cell_type": "markdown",
   "metadata": {},
   "source": [
    "## Create the Scale Detection Model\n",
    "\n",
    "We are using the ScaleDetectionModel from `deepcell.applications`"
   ]
  },
  {
   "cell_type": "code",
   "execution_count": 8,
   "metadata": {},
   "outputs": [
    {
     "name": "stdout",
     "output_type": "stream",
     "text": [
      "_________________________________________________________________\n",
      "Layer (type)                 Output Shape              Param #   \n",
      "=================================================================\n",
      "input_1 (InputLayer)         (None, 216, 216, 1)       0         \n",
      "_________________________________________________________________\n",
      "image_normalization2d (Image (None, 216, 216, 1)       3721      \n",
      "_________________________________________________________________\n",
      "tensor_product (TensorProduc (None, 216, 216, 3)       6         \n",
      "_________________________________________________________________\n",
      "block1_conv1 (Conv2D)        (None, 216, 216, 64)      1792      \n",
      "_________________________________________________________________\n",
      "block1_conv2 (Conv2D)        (None, 216, 216, 64)      36928     \n",
      "_________________________________________________________________\n",
      "block1_pool (MaxPooling2D)   (None, 108, 108, 64)      0         \n",
      "_________________________________________________________________\n",
      "block2_conv1 (Conv2D)        (None, 108, 108, 128)     73856     \n",
      "_________________________________________________________________\n",
      "block2_conv2 (Conv2D)        (None, 108, 108, 128)     147584    \n",
      "_________________________________________________________________\n",
      "block2_pool (MaxPooling2D)   (None, 54, 54, 128)       0         \n",
      "_________________________________________________________________\n",
      "block3_conv1 (Conv2D)        (None, 54, 54, 256)       295168    \n",
      "_________________________________________________________________\n",
      "block3_conv2 (Conv2D)        (None, 54, 54, 256)       590080    \n",
      "_________________________________________________________________\n",
      "block3_conv3 (Conv2D)        (None, 54, 54, 256)       590080    \n",
      "_________________________________________________________________\n",
      "block3_pool (MaxPooling2D)   (None, 27, 27, 256)       0         \n",
      "_________________________________________________________________\n",
      "block4_conv1 (Conv2D)        (None, 27, 27, 512)       1180160   \n",
      "_________________________________________________________________\n",
      "block4_conv2 (Conv2D)        (None, 27, 27, 512)       2359808   \n",
      "_________________________________________________________________\n",
      "block4_conv3 (Conv2D)        (None, 27, 27, 512)       2359808   \n",
      "_________________________________________________________________\n",
      "block4_pool (MaxPooling2D)   (None, 13, 13, 512)       0         \n",
      "_________________________________________________________________\n",
      "block5_conv1 (Conv2D)        (None, 13, 13, 512)       2359808   \n",
      "_________________________________________________________________\n",
      "block5_conv2 (Conv2D)        (None, 13, 13, 512)       2359808   \n",
      "_________________________________________________________________\n",
      "block5_conv3 (Conv2D)        (None, 13, 13, 512)       2359808   \n",
      "_________________________________________________________________\n",
      "block5_pool (MaxPooling2D)   (None, 6, 6, 512)         0         \n",
      "_________________________________________________________________\n",
      "average_pooling2d (AveragePo (None, 1, 1, 512)         0         \n",
      "_________________________________________________________________\n",
      "tensor_product_1 (TensorProd (None, 1, 1, 256)         131328    \n",
      "_________________________________________________________________\n",
      "tensor_product_2 (TensorProd (None, 1, 1, 1)           257       \n",
      "_________________________________________________________________\n",
      "flatten (Flatten)            (None, 1)                 0         \n",
      "_________________________________________________________________\n",
      "activation (Activation)      (None, 1)                 0         \n",
      "=================================================================\n",
      "Total params: 14,850,000\n",
      "Trainable params: 14,846,279\n",
      "Non-trainable params: 3,721\n",
      "_________________________________________________________________\n"
     ]
    }
   ],
   "source": [
    "from deepcell.applications import ScaleDetectionModel\n",
    "\n",
    "# set weights to None to retrain from scratch\n",
    "model = ScaleDetectionModel(input_shape=X_train.shape[1:], weights=None)\n",
    "\n",
    "model.summary()"
   ]
  },
  {
   "cell_type": "code",
   "execution_count": 9,
   "metadata": {},
   "outputs": [],
   "source": [
    "from tensorflow.keras.optimizers import SGD, Adam\n",
    "from deepcell.utils.train_utils import rate_scheduler\n",
    "\n",
    "n_epoch = 20\n",
    "batch_size = 64\n",
    "lr = 1e-3\n",
    "\n",
    "optimizer = Adam(lr=lr, clipnorm=.001)\n",
    "lr_sched = rate_scheduler(lr=lr, decay=0.9)\n",
    "\n",
    "model.compile(optimizer, loss='mse', metrics=['mae', 'mape'])"
   ]
  },
  {
   "cell_type": "markdown",
   "metadata": {},
   "source": [
    "## Train the Model\n",
    "\n",
    "Create the ImageDataGenerators and pass them to `model.fit_generator`."
   ]
  },
  {
   "cell_type": "code",
   "execution_count": 10,
   "metadata": {},
   "outputs": [],
   "source": [
    "from deepcell.image_generators import ScaleDataGenerator\n",
    "\n",
    "# Create the image data generator for training\n",
    "\n",
    "generator = ScaleDataGenerator(\n",
    "    rotation_range=180,\n",
    "    horizontal_flip=True,\n",
    "    vertical_flip=True,\n",
    "    zoom_range=(0.5, 2)\n",
    ")"
   ]
  },
  {
   "cell_type": "code",
   "execution_count": 11,
   "metadata": {
    "scrolled": true
   },
   "outputs": [
    {
     "name": "stdout",
     "output_type": "stream",
     "text": [
      "Epoch 1/20\n",
      "553/554 [============================>.] - ETA: 0s - loss: 2.2068 - mean_absolute_error: 0.9436 - mean_absolute_percentage_error: 88.1521\n",
      "Epoch 00001: val_loss improved from inf to 1.15113, saving model to /data/models/ScaleDetectionModel.h5\n",
      "554/554 [==============================] - 20s 36ms/step - loss: 2.2201 - mean_absolute_error: 0.9475 - mean_absolute_percentage_error: 88.5468 - val_loss: 1.1511 - val_mean_absolute_error: 0.8377 - val_mean_absolute_percentage_error: 91.9130\n",
      "Epoch 2/20\n",
      "553/554 [============================>.] - ETA: 0s - loss: 0.6264 - mean_absolute_error: 0.6048 - mean_absolute_percentage_error: 57.1526\n",
      "Epoch 00002: val_loss improved from 1.15113 to 0.26622, saving model to /data/models/ScaleDetectionModel.h5\n",
      "554/554 [==============================] - 14s 26ms/step - loss: 0.6262 - mean_absolute_error: 0.6049 - mean_absolute_percentage_error: 57.1200 - val_loss: 0.2662 - val_mean_absolute_error: 0.4211 - val_mean_absolute_percentage_error: 32.4400\n",
      "Epoch 3/20\n",
      "551/554 [============================>.] - ETA: 0s - loss: 0.4271 - mean_absolute_error: 0.5034 - mean_absolute_percentage_error: 49.0132\n",
      "Epoch 00003: val_loss did not improve from 0.26622\n",
      "554/554 [==============================] - 13s 24ms/step - loss: 0.4266 - mean_absolute_error: 0.5031 - mean_absolute_percentage_error: 49.0143 - val_loss: 0.3660 - val_mean_absolute_error: 0.4907 - val_mean_absolute_percentage_error: 35.6951\n",
      "Epoch 4/20\n",
      "552/554 [============================>.] - ETA: 0s - loss: 0.5240 - mean_absolute_error: 0.5106 - mean_absolute_percentage_error: 47.1397\n",
      "Epoch 00004: val_loss did not improve from 0.26622\n",
      "554/554 [==============================] - 13s 24ms/step - loss: 0.5302 - mean_absolute_error: 0.5132 - mean_absolute_percentage_error: 47.2140 - val_loss: 1.2959 - val_mean_absolute_error: 0.9522 - val_mean_absolute_percentage_error: 93.1591\n",
      "Epoch 5/20\n",
      "552/554 [============================>.] - ETA: 0s - loss: 0.2933 - mean_absolute_error: 0.4186 - mean_absolute_percentage_error: 37.8447\n",
      "Epoch 00005: val_loss improved from 0.26622 to 0.11461, saving model to /data/models/ScaleDetectionModel.h5\n",
      "554/554 [==============================] - 14s 25ms/step - loss: 0.2934 - mean_absolute_error: 0.4188 - mean_absolute_percentage_error: 37.8047 - val_loss: 0.1146 - val_mean_absolute_error: 0.2544 - val_mean_absolute_percentage_error: 25.2732\n",
      "Epoch 6/20\n",
      "552/554 [============================>.] - ETA: 0s - loss: 0.2805 - mean_absolute_error: 0.4004 - mean_absolute_percentage_error: 35.3996\n",
      "Epoch 00006: val_loss did not improve from 0.11461\n",
      "554/554 [==============================] - 13s 24ms/step - loss: 0.2803 - mean_absolute_error: 0.4004 - mean_absolute_percentage_error: 35.3668 - val_loss: 0.1998 - val_mean_absolute_error: 0.3570 - val_mean_absolute_percentage_error: 27.2529\n",
      "Epoch 7/20\n",
      "553/554 [============================>.] - ETA: 0s - loss: 0.2671 - mean_absolute_error: 0.3957 - mean_absolute_percentage_error: 35.4268\n",
      "Epoch 00007: val_loss improved from 0.11461 to 0.10895, saving model to /data/models/ScaleDetectionModel.h5\n",
      "554/554 [==============================] - 14s 25ms/step - loss: 0.2667 - mean_absolute_error: 0.3953 - mean_absolute_percentage_error: 35.3875 - val_loss: 0.1089 - val_mean_absolute_error: 0.2603 - val_mean_absolute_percentage_error: 22.2583\n",
      "Epoch 8/20\n",
      "552/554 [============================>.] - ETA: 0s - loss: 0.1807 - mean_absolute_error: 0.3334 - mean_absolute_percentage_error: 29.0037\n",
      "Epoch 00008: val_loss improved from 0.10895 to 0.09760, saving model to /data/models/ScaleDetectionModel.h5\n",
      "554/554 [==============================] - 14s 25ms/step - loss: 0.1802 - mean_absolute_error: 0.3329 - mean_absolute_percentage_error: 28.9584 - val_loss: 0.0976 - val_mean_absolute_error: 0.2377 - val_mean_absolute_percentage_error: 18.8788\n",
      "Epoch 9/20\n",
      "553/554 [============================>.] - ETA: 0s - loss: 0.1850 - mean_absolute_error: 0.3266 - mean_absolute_percentage_error: 27.3935\n",
      "Epoch 00009: val_loss did not improve from 0.09760\n",
      "554/554 [==============================] - 13s 23ms/step - loss: 0.1851 - mean_absolute_error: 0.3269 - mean_absolute_percentage_error: 27.3940 - val_loss: 0.1234 - val_mean_absolute_error: 0.2595 - val_mean_absolute_percentage_error: 20.4498\n",
      "Epoch 10/20\n",
      "553/554 [============================>.] - ETA: 0s - loss: 0.1307 - mean_absolute_error: 0.2833 - mean_absolute_percentage_error: 24.7718\n",
      "Epoch 00010: val_loss improved from 0.09760 to 0.08474, saving model to /data/models/ScaleDetectionModel.h5\n",
      "554/554 [==============================] - 14s 26ms/step - loss: 0.1305 - mean_absolute_error: 0.2829 - mean_absolute_percentage_error: 24.7481 - val_loss: 0.0847 - val_mean_absolute_error: 0.2223 - val_mean_absolute_percentage_error: 17.9165\n",
      "Epoch 11/20\n",
      "552/554 [============================>.] - ETA: 0s - loss: 0.1292 - mean_absolute_error: 0.2804 - mean_absolute_percentage_error: 23.7007\n",
      "Epoch 00011: val_loss did not improve from 0.08474\n",
      "554/554 [==============================] - 13s 24ms/step - loss: 0.1306 - mean_absolute_error: 0.2814 - mean_absolute_percentage_error: 23.7934 - val_loss: 0.3105 - val_mean_absolute_error: 0.4758 - val_mean_absolute_percentage_error: 47.9858\n",
      "Epoch 12/20\n",
      "553/554 [============================>.] - ETA: 0s - loss: 0.1127 - mean_absolute_error: 0.2601 - mean_absolute_percentage_error: 22.1296\n",
      "Epoch 00012: val_loss improved from 0.08474 to 0.06910, saving model to /data/models/ScaleDetectionModel.h5\n",
      "554/554 [==============================] - 14s 26ms/step - loss: 0.1125 - mean_absolute_error: 0.2598 - mean_absolute_percentage_error: 22.1201 - val_loss: 0.0691 - val_mean_absolute_error: 0.2077 - val_mean_absolute_percentage_error: 18.1084\n",
      "Epoch 13/20\n",
      "552/554 [============================>.] - ETA: 0s - loss: 0.1083 - mean_absolute_error: 0.2554 - mean_absolute_percentage_error: 21.8277\n",
      "Epoch 00013: val_loss did not improve from 0.06910\n",
      "554/554 [==============================] - 13s 23ms/step - loss: 0.1085 - mean_absolute_error: 0.2558 - mean_absolute_percentage_error: 21.8414 - val_loss: 0.1134 - val_mean_absolute_error: 0.2390 - val_mean_absolute_percentage_error: 18.7439\n",
      "Epoch 14/20\n",
      "553/554 [============================>.] - ETA: 0s - loss: 0.1057 - mean_absolute_error: 0.2508 - mean_absolute_percentage_error: 21.0175\n",
      "Epoch 00014: val_loss did not improve from 0.06910\n",
      "554/554 [==============================] - 13s 24ms/step - loss: 0.1058 - mean_absolute_error: 0.2511 - mean_absolute_percentage_error: 21.0254 - val_loss: 0.0935 - val_mean_absolute_error: 0.2198 - val_mean_absolute_percentage_error: 16.2348\n",
      "Epoch 15/20\n",
      "552/554 [============================>.] - ETA: 0s - loss: 0.1053 - mean_absolute_error: 0.2449 - mean_absolute_percentage_error: 19.9482\n",
      "Epoch 00015: val_loss did not improve from 0.06910\n",
      "554/554 [==============================] - 13s 23ms/step - loss: 0.1054 - mean_absolute_error: 0.2449 - mean_absolute_percentage_error: 19.9265 - val_loss: 0.0849 - val_mean_absolute_error: 0.2206 - val_mean_absolute_percentage_error: 17.9405\n",
      "Epoch 16/20\n",
      "553/554 [============================>.] - ETA: 0s - loss: 0.1007 - mean_absolute_error: 0.2371 - mean_absolute_percentage_error: 19.6774\n",
      "Epoch 00016: val_loss did not improve from 0.06910\n",
      "554/554 [==============================] - 13s 24ms/step - loss: 0.1007 - mean_absolute_error: 0.2372 - mean_absolute_percentage_error: 19.6746 - val_loss: 0.0880 - val_mean_absolute_error: 0.2162 - val_mean_absolute_percentage_error: 15.7426\n",
      "Epoch 17/20\n",
      "553/554 [============================>.] - ETA: 0s - loss: 0.0905 - mean_absolute_error: 0.2291 - mean_absolute_percentage_error: 18.3666\n",
      "Epoch 00017: val_loss did not improve from 0.06910\n",
      "554/554 [==============================] - 13s 24ms/step - loss: 0.0909 - mean_absolute_error: 0.2296 - mean_absolute_percentage_error: 18.3862 - val_loss: 0.0812 - val_mean_absolute_error: 0.2123 - val_mean_absolute_percentage_error: 16.2456\n",
      "Epoch 18/20\n",
      "552/554 [============================>.] - ETA: 0s - loss: 0.0880 - mean_absolute_error: 0.2233 - mean_absolute_percentage_error: 18.0739\n",
      "Epoch 00018: val_loss improved from 0.06910 to 0.05933, saving model to /data/models/ScaleDetectionModel.h5\n",
      "554/554 [==============================] - 14s 25ms/step - loss: 0.0877 - mean_absolute_error: 0.2229 - mean_absolute_percentage_error: 18.0502 - val_loss: 0.0593 - val_mean_absolute_error: 0.1994 - val_mean_absolute_percentage_error: 17.6540\n"
     ]
    },
    {
     "name": "stdout",
     "output_type": "stream",
     "text": [
      "Epoch 19/20\n",
      "553/554 [============================>.] - ETA: 0s - loss: 0.0962 - mean_absolute_error: 0.2424 - mean_absolute_percentage_error: 19.3987\n",
      "Epoch 00019: val_loss did not improve from 0.05933\n",
      "554/554 [==============================] - 13s 23ms/step - loss: 0.0961 - mean_absolute_error: 0.2423 - mean_absolute_percentage_error: 19.3855 - val_loss: 0.1490 - val_mean_absolute_error: 0.2902 - val_mean_absolute_percentage_error: 21.8390\n",
      "Epoch 20/20\n",
      "553/554 [============================>.] - ETA: 0s - loss: 0.0768 - mean_absolute_error: 0.2062 - mean_absolute_percentage_error: 16.8721\n",
      "Epoch 00020: val_loss did not improve from 0.05933\n",
      "554/554 [==============================] - 13s 23ms/step - loss: 0.0769 - mean_absolute_error: 0.2066 - mean_absolute_percentage_error: 16.8810 - val_loss: 0.0782 - val_mean_absolute_error: 0.1985 - val_mean_absolute_percentage_error: 15.3722\n"
     ]
    },
    {
     "data": {
      "text/plain": [
       "<tensorflow.python.keras.callbacks.History at 0x7fa48f4d75f8>"
      ]
     },
     "execution_count": 11,
     "metadata": {},
     "output_type": "execute_result"
    }
   ],
   "source": [
    "from tensorflow.python.keras import callbacks\n",
    "\n",
    "model.fit_generator(\n",
    "    generator.flow({'X': X_train, 'y': y_train}),\n",
    "    steps_per_epoch=X_train.shape[0] // batch_size,\n",
    "    epochs=n_epoch,\n",
    "    validation_data=generator.flow({'X': X_test, 'y': y_test}),\n",
    "    validation_steps=X_test.shape[0] // batch_size,\n",
    "    callbacks=[\n",
    "        callbacks.LearningRateScheduler(lr_sched),\n",
    "        callbacks.ModelCheckpoint(\n",
    "            os.path.join(MODEL_DIR, MODEL_NAME + '.h5'),\n",
    "            verbose=1,\n",
    "            monitor='val_loss',\n",
    "            save_best_only=True)\n",
    "    ]\n",
    ")"
   ]
  },
  {
   "cell_type": "markdown",
   "metadata": {},
   "source": [
    "## Run the model on test data\n",
    "\n",
    "Run the model on validation data and visualize the performance."
   ]
  },
  {
   "cell_type": "code",
   "execution_count": 12,
   "metadata": {},
   "outputs": [],
   "source": [
    "model.load_weights(os.path.join(MODEL_DIR, MODEL_NAME + '.h5'))\n",
    "\n",
    "test_data = generator.flow({'X': X_test, 'y': y_test})\n",
    "\n",
    "true, pred = [], []\n",
    "for i in range(500):\n",
    "    X, y = test_data.next()\n",
    "    true.append(y)\n",
    "    pred.append(model.predict(X))\n",
    "    \n",
    "true = np.array(true)\n",
    "pred = np.array(pred)"
   ]
  },
  {
   "cell_type": "code",
   "execution_count": 13,
   "metadata": {},
   "outputs": [
    {
     "data": {
      "text/plain": [
       "Text(0, 0.5, 'Error')"
      ]
     },
     "execution_count": 13,
     "metadata": {},
     "output_type": "execute_result"
    },
    {
     "data": {
      "image/png": "[encoded data removed]",
      "text/plain": [
       "<Figure size 432x288 with 1 Axes>"
      ]
     },
     "metadata": {
      "needs_background": "light"
     },
     "output_type": "display_data"
    }
   ],
   "source": [
    "import matplotlib.pyplot as plt\n",
    "\n",
    "fig, ax = plt.subplots()\n",
    "\n",
    "ax.scatter(true, pred - true)\n",
    "ax.set_xlabel('True Zoom')\n",
    "ax.set_ylabel('Error')"
   ]
  },
  {
   "cell_type": "code",
   "execution_count": null,
   "metadata": {},
   "outputs": [],
   "source": []
  }
 ],
 "metadata": {
  "kernelspec": {
   "display_name": "Python 3",
   "language": "python",
   "name": "python3"
  },
  "language_info": {
   "codemirror_mode": {
    "name": "ipython",
    "version": 3
   },
   "file_extension": ".py",
   "mimetype": "text/x-python",
   "name": "python",
   "nbconvert_exporter": "python",
   "pygments_lexer": "ipython3",
   "version": "3.5.2"
  }
 },
 "nbformat": 4,
 "nbformat_minor": 2
}
