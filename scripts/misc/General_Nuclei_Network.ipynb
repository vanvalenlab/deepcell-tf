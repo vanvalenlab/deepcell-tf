{
 "cells": [
  {
   "cell_type": "markdown",
   "metadata": {},
   "source": [
    "# Building a Generalized Nuclear Model"
   ]
  },
  {
   "cell_type": "code",
   "execution_count": 1,
   "metadata": {},
   "outputs": [
    {
     "name": "stderr",
     "output_type": "stream",
     "text": [
      "Using TensorFlow backend.\n"
     ]
    }
   ],
   "source": [
    "import os\n",
    "import errno\n",
    "\n",
    "import numpy as np\n",
    "\n",
    "import deepcell"
   ]
  },
  {
   "cell_type": "markdown",
   "metadata": {},
   "source": [
    "## Load Each Dataset"
   ]
  },
  {
   "cell_type": "code",
   "execution_count": 2,
   "metadata": {},
   "outputs": [
    {
     "name": "stdout",
     "output_type": "stream",
     "text": [
      "X.shape: (6208, 216, 256, 1)\n",
      "y.shape: (6208, 216, 256, 1)\n"
     ]
    }
   ],
   "source": [
    "# Download the data (saves to ~/.keras/datasets)\n",
    "hela_filename = 'HeLa_S3.npz'\n",
    "(X_train, y_train), (X_test, y_test) = deepcell.datasets.hela_s3.load_data(hela_filename)\n",
    "\n",
    "print('X.shape: {}\\ny.shape: {}'.format(X_train.shape, y_train.shape))"
   ]
  },
  {
   "cell_type": "code",
   "execution_count": 3,
   "metadata": {},
   "outputs": [
    {
     "name": "stdout",
     "output_type": "stream",
     "text": [
      "X.shape: (9192, 135, 160, 1)\n",
      "y.shape: (9192, 135, 160, 1)\n"
     ]
    }
   ],
   "source": [
    "# Download the data (saves to ~/.keras/datasets)\n",
    "hek_filename = 'HEK293.npz'\n",
    "(X_train, y_train), (X_test, y_test) = deepcell.datasets.hek293.load_data(hek_filename)\n",
    "\n",
    "print('X.shape: {}\\ny.shape: {}'.format(X_train.shape, y_train.shape))"
   ]
  },
  {
   "cell_type": "code",
   "execution_count": 4,
   "metadata": {},
   "outputs": [
    {
     "name": "stdout",
     "output_type": "stream",
     "text": [
      "A local file was found, but it seems to be incomplete or outdated because the auto file hash does not match the original value of 954b6f4ad6a71435b84c40726837e4ba so we will re-download the data.\n",
      "Downloading data from https://deepcell-data.s3.amazonaws.com/nuclei/3T3_NIH.npz\n",
      "1937301504/1937295810 [==============================] - 87s 0us/step\n",
      "X.shape: (230, 30, 154, 182, 1)\n",
      "y.shape: (230, 30, 154, 182, 1)\n"
     ]
    }
   ],
   "source": [
    "# Download the data (saves to ~/.keras/datasets)\n",
    "nih_filename = '3T3_NIH.npz'\n",
    "(X_train, y_train), (X_test, y_test) = deepcell.datasets.nih_3t3.load_data(nih_filename)\n",
    "\n",
    "print('X.shape: {}\\ny.shape: {}'.format(X_train.shape, y_train.shape))"
   ]
  },
  {
   "cell_type": "markdown",
   "metadata": {},
   "source": [
    "### Flatten All Datasets into 2D and Combine"
   ]
  },
  {
   "cell_type": "code",
   "execution_count": 5,
   "metadata": {},
   "outputs": [],
   "source": [
    "# Load the data with get_data function\n",
    "from deepcell.utils.data_utils import get_data\n",
    "\n",
    "def get_path(fname):\n",
    "    path = os.path.join('~', '.keras', 'datasets', fname)\n",
    "    return os.path.expanduser(path)\n",
    "\n",
    "hela_train, hela_test = get_data(get_path(hela_filename))\n",
    "\n",
    "hek_train, hek_test = get_data(get_path(hek_filename))\n",
    "\n",
    "nih_train, nih_test = get_data(get_path(nih_filename))"
   ]
  },
  {
   "cell_type": "code",
   "execution_count": 6,
   "metadata": {},
   "outputs": [
    {
     "name": "stdout",
     "output_type": "stream",
     "text": [
      "82066 Total 3T3_NIH Cells\n",
      "193840 Total HEK293 Cells\n",
      "55190 Total HeLa_S3 Cells\n"
     ]
    }
   ],
   "source": [
    "def count_cells(train, test, name):\n",
    "    y = np.vstack([train['y'], test['y']])\n",
    "    if len(y.shape) == 5:\n",
    "        y_reshape = np.resize(y, (y.shape[0] * y.shape[1], *y.shape[2:]))\n",
    "    else:\n",
    "        y_reshape = y\n",
    "\n",
    "    total_cells = 0\n",
    "    for i in range(y_reshape.shape[0]):\n",
    "        unique = np.unique(y_reshape[i])\n",
    "        total_cells += (len(unique) - 1)\n",
    "    print('{} Total {} Cells'.format(total_cells, name))\n",
    "\n",
    "count_cells(nih_train, nih_test, '3T3_NIH')\n",
    "count_cells(hek_train, hek_test, 'HEK293')\n",
    "count_cells(hela_train, hela_test, 'HeLa_S3')"
   ]
  },
  {
   "cell_type": "code",
   "execution_count": 7,
   "metadata": {},
   "outputs": [],
   "source": [
    "# flatten the NIH dataset as it is 3D\n",
    "def flatten(d):\n",
    "    return np.resize(d, tuple([d.shape[0] * d.shape[1]] + list(d.shape[2:])))\n",
    "\n",
    "nih_train['X'] = flatten(nih_train['X'])\n",
    "nih_train['y'] = flatten(nih_train['y'])\n",
    "nih_test['X'] = flatten(nih_test['X'])\n",
    "nih_test['y'] = flatten(nih_test['y'])"
   ]
  },
  {
   "cell_type": "code",
   "execution_count": 8,
   "metadata": {},
   "outputs": [
    {
     "name": "stdout",
     "output_type": "stream",
     "text": [
      "Reshaped feature data from (6984, 216, 256, 1) to (27936, 128, 128, 1)\n",
      "Reshaped training data from (6984, 216, 256, 1) to (27936, 128, 128, 1)\n",
      "Reshaped feature data from (776, 216, 256, 1) to (3104, 128, 128, 1)\n",
      "Reshaped training data from (776, 216, 256, 1) to (3104, 128, 128, 1)\n",
      "Reshaped feature data from (10341, 135, 160, 1) to (41364, 128, 128, 1)\n",
      "Reshaped training data from (10341, 135, 160, 1) to (41364, 128, 128, 1)\n",
      "Reshaped feature data from (1149, 135, 160, 1) to (4596, 128, 128, 1)\n",
      "Reshaped training data from (1149, 135, 160, 1) to (4596, 128, 128, 1)\n",
      "Reshaped feature data from (7770, 154, 182, 1) to (31080, 128, 128, 1)\n",
      "Reshaped training data from (7770, 154, 182, 1) to (31080, 128, 128, 1)\n",
      "Reshaped feature data from (870, 154, 182, 1) to (3480, 128, 128, 1)\n",
      "Reshaped training data from (870, 154, 182, 1) to (3480, 128, 128, 1)\n"
     ]
    }
   ],
   "source": [
    "# Now reshape the dat aso that they all have the same x/y dimensions\n",
    "from deepcell.utils.data_utils import reshape_matrix\n",
    "\n",
    "RESHAPE_SIZE = 128\n",
    "                       \n",
    "hela_train['X'], hela_train['y'] = reshape_matrix(hela_train['X'], hela_train['y'], RESHAPE_SIZE)\n",
    "hela_test['X'], hela_test['y'] = reshape_matrix(hela_test['X'], hela_test['y'], RESHAPE_SIZE)\n",
    "\n",
    "hek_train['X'], hek_train['y'] = reshape_matrix(hek_train['X'], hek_train['y'], RESHAPE_SIZE)\n",
    "hek_test['X'], hek_test['y'] = reshape_matrix(hek_test['X'], hek_test['y'], RESHAPE_SIZE)\n",
    "\n",
    "nih_train['X'], nih_train['y'] = reshape_matrix(nih_train['X'], nih_train['y'], RESHAPE_SIZE)\n",
    "nih_test['X'], nih_test['y'] = reshape_matrix(nih_test['X'], nih_test['y'], RESHAPE_SIZE)"
   ]
  },
  {
   "cell_type": "code",
   "execution_count": 9,
   "metadata": {},
   "outputs": [],
   "source": [
    "# Stack up our data as train and test\n",
    "X_train = np.vstack([hela_train['X'], hek_train['X'], nih_train['X']])\n",
    "y_train = np.vstack([hela_train['y'], hek_train['y'], nih_train['y']])\n",
    "\n",
    "X_test = np.vstack([hela_test['X'], hek_test['X'], nih_test['X']])\n",
    "y_test = np.vstack([hela_test['y'], hek_test['y'], nih_test['y']])"
   ]
  },
  {
   "cell_type": "code",
   "execution_count": 10,
   "metadata": {},
   "outputs": [],
   "source": [
    "# Load the data into a tensors as X and y\n",
    "X = np.vstack([X_train, X_test])\n",
    "y = np.vstack([y_train, y_test])"
   ]
  },
  {
   "cell_type": "code",
   "execution_count": 11,
   "metadata": {},
   "outputs": [],
   "source": [
    "# Set up filepath constants\n",
    "\n",
    "# change DATA_DIR if you are not using `deepcell.datasets`\n",
    "DATA_DIR = os.path.expanduser(os.path.join('~', '.keras', 'datasets'))\n",
    "\n",
    "# filename to write combined data\n",
    "filename = 'general_nuclear_data.npz'\n",
    "\n",
    "# DATA_FILE should be a npz file, preferably from `make_training_data`\n",
    "DATA_FILE = os.path.join(DATA_DIR, filename)\n",
    "\n",
    "# the path to the data file is currently required for `train_model_()` functions\n",
    "np.savez(DATA_FILE, X=X, y=y)\n",
    "\n",
    "# confirm the data file is available\n",
    "assert os.path.isfile(DATA_FILE)"
   ]
  },
  {
   "cell_type": "code",
   "execution_count": 12,
   "metadata": {},
   "outputs": [],
   "source": [
    "# If the data file is in a subdirectory, mirror it in MODEL_DIR and LOG_DIR\n",
    "PREFIX = os.path.relpath(os.path.dirname(DATA_FILE), DATA_DIR)\n",
    "\n",
    "ROOT_DIR = '/data'  # TODO: Change this! Usually a mounted volume\n",
    "MODEL_DIR = os.path.abspath(os.path.join(ROOT_DIR, 'models', PREFIX))\n",
    "LOG_DIR = os.path.abspath(os.path.join(ROOT_DIR, 'logs', PREFIX))\n",
    "\n",
    "# create directories if they do not exist\n",
    "for d in (MODEL_DIR, LOG_DIR):\n",
    "    try:\n",
    "        os.makedirs(d)\n",
    "    except OSError as exc:  # Guard against race condition\n",
    "        if exc.errno != errno.EEXIST:\n",
    "            raise"
   ]
  },
  {
   "cell_type": "markdown",
   "metadata": {},
   "source": [
    "## Train a General Nuclear Model\n",
    "\n",
    "### Set up Training Parameters"
   ]
  },
  {
   "cell_type": "code",
   "execution_count": 13,
   "metadata": {},
   "outputs": [],
   "source": [
    "from tensorflow.keras.optimizers import SGD\n",
    "from deepcell.utils.train_utils import rate_scheduler\n",
    "\n",
    "fgbg_model_name = 'fgbg_nuclear_model'\n",
    "conv_model_name = 'watershed_nuclear_model'\n",
    "\n",
    "n_epoch = 3  # Number of training epochs\n",
    "test_size = .20  # % of data saved as test\n",
    "norm_method = 'std'  # data normalization\n",
    "receptive_field = 41  # should be adjusted for the scale of the data\n",
    "\n",
    "optimizer = SGD(lr=0.01, decay=1e-6, momentum=0.9, nesterov=True)\n",
    "\n",
    "lr_sched = rate_scheduler(lr=0.01, decay=0.99)\n",
    "\n",
    "# FC training settings\n",
    "n_skips = 0  # number of skip-connections (only for FC training)\n",
    "batch_size = 1  # FC training uses 1 image per batch\n",
    "\n",
    "# Transformation settings\n",
    "transform = 'watershed'\n",
    "distance_bins = 4\n",
    "erosion_width = 0  # erode edges"
   ]
  },
  {
   "cell_type": "markdown",
   "metadata": {},
   "source": [
    "### First, create a foreground/background separation model\n",
    "\n",
    "#### Instantiate the fgbg model"
   ]
  },
  {
   "cell_type": "code",
   "execution_count": 14,
   "metadata": {},
   "outputs": [],
   "source": [
    "from deepcell import model_zoo\n",
    "\n",
    "fgbg_model = model_zoo.bn_feature_net_skip_2D(\n",
    "    n_features=2,  # segmentation mask (is_cell, is_not_cell)\n",
    "    receptive_field=receptive_field,\n",
    "    n_skips=n_skips,\n",
    "    n_conv_filters=32,\n",
    "    n_dense_filters=128,\n",
    "    input_shape=tuple(X_train.shape[1:]))"
   ]
  },
  {
   "cell_type": "markdown",
   "metadata": {},
   "source": [
    "#### Train the model fgbg model"
   ]
  },
  {
   "cell_type": "code",
   "execution_count": 15,
   "metadata": {},
   "outputs": [
    {
     "name": "stdout",
     "output_type": "stream",
     "text": [
      "X_train shape: (89248, 128, 128, 1)\n",
      "y_train shape: (89248, 128, 128, 1)\n",
      "X_test shape: (22312, 128, 128, 1)\n",
      "y_test shape: (22312, 128, 128, 1)\n",
      "Output Shape: (None, 128, 128, 2)\n",
      "Number of Classes: 2\n",
      "Training on 1 GPUs\n",
      "Epoch 1/3\n",
      "89246/89248 [============================>.] - ETA: 0s - loss: 0.1527 - acc: 0.9410\n",
      "Epoch 00001: val_loss improved from inf to 0.15587, saving model to /data/models/fgbg_nuclear_model.h5\n",
      "89248/89248 [==============================] - 1664s 19ms/step - loss: 0.1527 - acc: 0.9410 - val_loss: 0.1559 - val_acc: 0.9462\n",
      "Epoch 2/3\n",
      "89246/89248 [============================>.] - ETA: 0s - loss: 0.1439 - acc: 0.9429\n",
      "Epoch 00002: val_loss improved from 0.15587 to 0.15583, saving model to /data/models/fgbg_nuclear_model.h5\n",
      "89248/89248 [==============================] - 1650s 18ms/step - loss: 0.1439 - acc: 0.9429 - val_loss: 0.1558 - val_acc: 0.9417\n",
      "Epoch 3/3\n",
      "89247/89248 [============================>.] - ETA: 0s - loss: 0.1411 - acc: 0.9435\n",
      "Epoch 00003: val_loss did not improve from 0.15583\n",
      "89248/89248 [==============================] - 1655s 19ms/step - loss: 0.1411 - acc: 0.9435 - val_loss: 0.1598 - val_acc: 0.9422\n"
     ]
    }
   ],
   "source": [
    "from deepcell.training import train_model_conv\n",
    "\n",
    "fgbg_model = train_model_conv(\n",
    "    model=fgbg_model,\n",
    "    dataset=DATA_FILE,  # full path to npz file\n",
    "    model_name=fgbg_model_name,\n",
    "    test_size=test_size,\n",
    "    optimizer=optimizer,\n",
    "    n_epoch=n_epoch,\n",
    "    batch_size=batch_size,\n",
    "    transform='fgbg',\n",
    "    model_dir=MODEL_DIR,\n",
    "    log_dir=LOG_DIR,\n",
    "    lr_sched=lr_sched,\n",
    "    rotation_range=180,\n",
    "    flip=True,\n",
    "    shear=False,\n",
    "    zoom_range=(0.8, 1.2))"
   ]
  },
  {
   "cell_type": "markdown",
   "metadata": {},
   "source": [
    "### Next, Create a model for the watershed energy transform\n",
    "\n",
    "#### Instantiate the distance transform model"
   ]
  },
  {
   "cell_type": "code",
   "execution_count": 16,
   "metadata": {},
   "outputs": [],
   "source": [
    "from deepcell import model_zoo\n",
    "\n",
    "watershed_model = model_zoo.bn_feature_net_skip_2D(\n",
    "    fgbg_model=fgbg_model,\n",
    "    receptive_field=receptive_field,\n",
    "    n_skips=n_skips,\n",
    "    n_features=distance_bins,\n",
    "    n_conv_filters=32,\n",
    "    n_dense_filters=128,\n",
    "    input_shape=tuple(X_train.shape[1:]))"
   ]
  },
  {
   "cell_type": "markdown",
   "metadata": {},
   "source": [
    "#### Train the distance transform model"
   ]
  },
  {
   "cell_type": "code",
   "execution_count": 17,
   "metadata": {},
   "outputs": [
    {
     "name": "stdout",
     "output_type": "stream",
     "text": [
      "X_train shape: (89248, 128, 128, 1)\n",
      "y_train shape: (89248, 128, 128, 1)\n",
      "X_test shape: (22312, 128, 128, 1)\n",
      "y_test shape: (22312, 128, 128, 1)\n",
      "Output Shape: (None, 128, 128, 4)\n",
      "Number of Classes: 4\n",
      "Training on 1 GPUs\n",
      "Epoch 1/3\n",
      "89246/89248 [============================>.] - ETA: 0s - loss: 0.5592 - acc: 0.8675\n",
      "Epoch 00001: val_loss improved from inf to 0.61912, saving model to /data/models/watershed_nuclear_model.h5\n",
      "89248/89248 [==============================] - 2268s 25ms/step - loss: 0.5592 - acc: 0.8675 - val_loss: 0.6191 - val_acc: 0.8306\n",
      "Epoch 2/3\n",
      "89246/89248 [============================>.] - ETA: 0s - loss: 0.5349 - acc: 0.8760\n",
      "Epoch 00002: val_loss improved from 0.61912 to 0.61819, saving model to /data/models/watershed_nuclear_model.h5\n",
      "89248/89248 [==============================] - 2264s 25ms/step - loss: 0.5349 - acc: 0.8760 - val_loss: 0.6182 - val_acc: 0.8353\n",
      "Epoch 3/3\n",
      "89247/89248 [============================>.] - ETA: 0s - loss: 0.5256 - acc: 0.8787\n",
      "Epoch 00003: val_loss improved from 0.61819 to 0.61744, saving model to /data/models/watershed_nuclear_model.h5\n",
      "89248/89248 [==============================] - 2277s 26ms/step - loss: 0.5256 - acc: 0.8787 - val_loss: 0.6174 - val_acc: 0.8376\n"
     ]
    }
   ],
   "source": [
    "from deepcell.training import train_model_conv\n",
    "\n",
    "watershed_model = train_model_conv(\n",
    "    model=watershed_model,\n",
    "    dataset=DATA_FILE,  # full path to npz file\n",
    "    model_name=conv_model_name,\n",
    "    test_size=test_size,\n",
    "    optimizer=optimizer,\n",
    "    n_epoch=n_epoch,\n",
    "    batch_size=batch_size,\n",
    "    transform=transform,\n",
    "    model_dir=MODEL_DIR,\n",
    "    log_dir=LOG_DIR,\n",
    "    lr_sched=lr_sched,\n",
    "    rotation_range=180,\n",
    "    flip=True,\n",
    "    shear=False,\n",
    "    zoom_range=(0.8, 1.2))"
   ]
  },
  {
   "cell_type": "markdown",
   "metadata": {},
   "source": [
    "## Run the Model"
   ]
  },
  {
   "cell_type": "code",
   "execution_count": 18,
   "metadata": {},
   "outputs": [
    {
     "name": "stdout",
     "output_type": "stream",
     "text": [
      "watershed transform shape: (11180, 128, 128, 4)\n",
      "segmented in 33.98737014224753 seconds\n",
      "segmentation mask shape: (11180, 128, 128, 2)\n",
      "segmented in 17.093125076964498 seconds\n"
     ]
    }
   ],
   "source": [
    "from timeit import default_timer\n",
    "\n",
    "start = default_timer()\n",
    "test_images = watershed_model.predict(X_test)\n",
    "print('watershed transform shape:', test_images.shape)\n",
    "watershed_time = default_timer() - start\n",
    "print('segmented in', watershed_time, 'seconds')\n",
    "\n",
    "start = default_timer()\n",
    "test_images_fgbg = fgbg_model.predict(X_test)\n",
    "print('segmentation mask shape:', test_images_fgbg.shape)\n",
    "fgbg_time = default_timer() - start\n",
    "print('segmented in', fgbg_time, 'seconds')"
   ]
  },
  {
   "cell_type": "code",
   "execution_count": 19,
   "metadata": {},
   "outputs": [
    {
     "name": "stdout",
     "output_type": "stream",
     "text": [
      "watershed transform shape: (11180, 128, 128, 4)\n",
      "segmentation mask shape: (11180, 128, 128, 2)\n",
      "watershed argmax shape: (11180, 128, 128, 1)\n"
     ]
    }
   ],
   "source": [
    "test_images = watershed_model.predict(X_test)\n",
    "test_images_fgbg = fgbg_model.predict(X_test)\n",
    "\n",
    "print('watershed transform shape:', test_images.shape)\n",
    "print('segmentation mask shape:', test_images_fgbg.shape)\n",
    "\n",
    "argmax_images = []\n",
    "for i in range(test_images.shape[0]):\n",
    "    max_image = np.argmax(test_images[i], axis=-1)\n",
    "    argmax_images.append(max_image)\n",
    "argmax_images = np.array(argmax_images)\n",
    "argmax_images = np.expand_dims(argmax_images, axis=-1)\n",
    "\n",
    "print('watershed argmax shape:', argmax_images.shape)"
   ]
  },
  {
   "cell_type": "code",
   "execution_count": 20,
   "metadata": {},
   "outputs": [],
   "source": [
    "# threshold the foreground/background\n",
    "# and remove back ground from watershed transform\n",
    "threshold = 0.5\n",
    "fg_thresh = test_images_fgbg[..., 1] > threshold\n",
    "fg_thresh = test_images[..., 1] + test_images[..., 2] + test_images[..., 3] > threshold\n",
    "\n",
    "fg_thresh = np.expand_dims(fg_thresh, axis=-1)\n",
    "argmax_images_post_fgbg = argmax_images * fg_thresh"
   ]
  },
  {
   "cell_type": "code",
   "execution_count": 21,
   "metadata": {},
   "outputs": [],
   "source": [
    "# Apply watershed method with the distance transform as seed\n",
    "from scipy import ndimage\n",
    "from scipy.ndimage.morphology import distance_transform_edt\n",
    "from skimage.morphology import watershed, opening, closing\n",
    "from skimage.feature import peak_local_max\n",
    "from skimage.morphology import erosion, ball\n",
    "\n",
    "watershed_images = []\n",
    "for i in range(argmax_images_post_fgbg.shape[0]):\n",
    "    image = fg_thresh[i, ..., 0]\n",
    "    distance = argmax_images_post_fgbg[i, ..., 0]\n",
    "\n",
    "    local_maxi = peak_local_max(\n",
    "        test_images[i, ..., -1],\n",
    "        min_distance=10,\n",
    "        threshold_abs=0.05,\n",
    "        indices=False,\n",
    "        labels=image,\n",
    "        exclude_border=False)\n",
    "\n",
    "    markers = ndimage.label(local_maxi)[0]\n",
    "    segments = watershed(-distance, markers, mask=image)\n",
    "    watershed_images.append(segments)\n",
    "\n",
    "watershed_images = np.array(watershed_images)\n",
    "watershed_images = np.expand_dims(watershed_images, axis=-1)"
   ]
  },
  {
   "cell_type": "code",
   "execution_count": 22,
   "metadata": {},
   "outputs": [
    {
     "data": {
      "image/png": "[encoded data removed]",
      "text/plain": [
       "<Figure size 1080x1080 with 6 Axes>"
      ]
     },
     "metadata": {},
     "output_type": "display_data"
    }
   ],
   "source": [
    "import matplotlib.pyplot as plt\n",
    "import matplotlib.animation as animation\n",
    "\n",
    "index = 1000\n",
    "\n",
    "fig, axes = plt.subplots(ncols=3, nrows=2, figsize=(15, 15), sharex=True, sharey=True)\n",
    "ax = axes.ravel()\n",
    "\n",
    "ax[0].imshow(X_test[index, :, :, 0])\n",
    "ax[0].set_title('Source Image')\n",
    "\n",
    "ax[1].imshow(test_images_fgbg[index, :, :, 1])\n",
    "ax[1].set_title('Segmentation Prediction')\n",
    "\n",
    "ax[2].imshow(fg_thresh[index, :, :, 0], cmap='jet')\n",
    "ax[2].set_title('Thresholded Segmentation')\n",
    "\n",
    "ax[3].imshow(test_images[index, :, :, 3], cmap='jet')\n",
    "ax[3].set_title('Watershed Transform')\n",
    "\n",
    "ax[4].imshow(argmax_images_post_fgbg[index, :, :, 0], cmap='jet')\n",
    "ax[4].set_title('Watershed Transform w/o Background')\n",
    "\n",
    "ax[5].imshow(watershed_images[index, :, :, 0], cmap='jet')\n",
    "ax[5].set_title('Watershed Segmentation')\n",
    "\n",
    "fig.tight_layout()\n",
    "plt.show()"
   ]
  },
  {
   "cell_type": "markdown",
   "metadata": {},
   "source": [
    "## Export the Model for TensorFlow-Serving"
   ]
  },
  {
   "cell_type": "code",
   "execution_count": 23,
   "metadata": {},
   "outputs": [],
   "source": [
    "from deepcell import model_zoo\n",
    "from tensorflow.keras import backend as K\n",
    "\n",
    "K.set_floatx('float16')\n",
    "\n",
    "# re-instantiate with a new input_shape\n",
    "fgbg_model_f16 = model_zoo.bn_feature_net_skip_2D(\n",
    "    receptive_field=receptive_field,\n",
    "    n_skips=n_skips,\n",
    "    n_features=2,\n",
    "    n_conv_filters=32,\n",
    "    n_dense_filters=128,\n",
    "    input_shape=(128, 128, 1))\n",
    "fgbg_model_f16.load_weights(os.path.join(MODEL_DIR, fgbg_model_name + '.h5'))\n",
    "\n",
    "watershed_model_f16 = model_zoo.bn_feature_net_skip_2D(\n",
    "    fgbg_model=fgbg_model_f16,\n",
    "    receptive_field=receptive_field,\n",
    "    n_skips=n_skips,\n",
    "    n_features=distance_bins,\n",
    "    n_conv_filters=32,\n",
    "    n_dense_filters=128,\n",
    "    input_shape=(128, 128, 1))\n",
    "watershed_model_f16.load_weights(os.path.join(MODEL_DIR, conv_model_name + '.h5'))"
   ]
  },
  {
   "cell_type": "code",
   "execution_count": 24,
   "metadata": {},
   "outputs": [
    {
     "name": "stdout",
     "output_type": "stream",
     "text": [
      "watershed transform shape: (11180, 128, 128, 4)\n",
      "float16 time is 24.75052117696032 seconds\n",
      "float32 time was 33.98737014224753 seconds\n",
      "segmentation mask shape: (11180, 128, 128, 2)\n",
      "float16 time is 13.481910694856197 seconds\n",
      "float32 time was 17.093125076964498 seconds\n"
     ]
    }
   ],
   "source": [
    "from timeit import default_timer\n",
    "\n",
    "start = default_timer()\n",
    "test_images_16 = watershed_model_f16.predict(X_test)\n",
    "print('watershed transform shape:', test_images_16.shape)\n",
    "_watershed_time = default_timer() - start\n",
    "print('float16 time is', _watershed_time, 'seconds')\n",
    "print('float32 time was', watershed_time, 'seconds')\n",
    "\n",
    "start = default_timer()\n",
    "test_images_fgbg_16 = fgbg_model_f16.predict(X_test)\n",
    "print('segmentation mask shape:', test_images_fgbg_16.shape)\n",
    "_fgbg_time = default_timer() - start\n",
    "print('float16 time is', _fgbg_time, 'seconds')\n",
    "print('float32 time was', fgbg_time, 'seconds')"
   ]
  },
  {
   "cell_type": "code",
   "execution_count": 26,
   "metadata": {},
   "outputs": [
    {
     "name": "stdout",
     "output_type": "stream",
     "text": [
      "INFO:tensorflow:No assets to save.\n",
      "INFO:tensorflow:No assets to write.\n",
      "INFO:tensorflow:SavedModel written to: /data/exports/watershed_nuclear_model/1/saved_model.pb\n"
     ]
    }
   ],
   "source": [
    "from deepcell.utils.export_utils import export_model\n",
    "\n",
    "weights_path = os.path.join(MODEL_DIR, conv_model_name + '.h5')\n",
    "\n",
    "EXPORT_DIR = os.path.abspath(os.path.join(ROOT_DIR, 'exports', PREFIX))\n",
    "export_path = os.path.join(EXPORT_DIR, conv_model_name)\n",
    "\n",
    "export_model(watershed_model_f16, export_path,\n",
    "             model_version=1, weights_path=weights_path)\n",
    "\n",
    "assert os.path.isdir(export_path)"
   ]
  },
  {
   "cell_type": "code",
   "execution_count": null,
   "metadata": {},
   "outputs": [],
   "source": []
  }
 ],
 "metadata": {
  "kernelspec": {
   "display_name": "Python 3",
   "language": "python",
   "name": "python3"
  },
  "language_info": {
   "codemirror_mode": {
    "name": "ipython",
    "version": 3
   },
   "file_extension": ".py",
   "mimetype": "text/x-python",
   "name": "python",
   "nbconvert_exporter": "python",
   "pygments_lexer": "ipython3",
   "version": "3.5.2"
  }
 },
 "nbformat": 4,
 "nbformat_minor": 2
}
