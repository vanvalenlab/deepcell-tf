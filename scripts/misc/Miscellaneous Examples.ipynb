{
 "cells": [
  {
   "cell_type": "markdown",
   "metadata": {},
   "source": [
    "# Miscellaneous Examples\n",
    "\n",
    "---\n",
    "\n",
    "A collection of code blocks that may prove useful as reference or inspiration"
   ]
  },
  {
   "cell_type": "markdown",
   "metadata": {},
   "source": [
    "## Create a jupyter notebook for training models"
   ]
  },
  {
   "cell_type": "code",
   "execution_count": null,
   "metadata": {},
   "outputs": [],
   "source": [
    "import deepcell\n",
    "\n",
    "kwargs = {}\n",
    "file_name = 'ecoli_generic.zip'\n",
    "\n",
    "notebook_path = deepcell.notebooks.train.make_notebook(\n",
    "    file_name,\n",
    "    train_type=kwargs.get('training_type', 'conv'),\n",
    "    field_size=kwargs.get('field', 61),\n",
    "    ndim=kwargs.get('ndim', 2),\n",
    "    optimizer=kwargs.get('optimizer', 'sgd'),\n",
    "    skips=kwargs.get('skips', 0),\n",
    "    epochs=kwargs.get('epochs', 10),\n",
    "    normalization=kwargs.get('normalization', 'std'),\n",
    "    transform=kwargs.get('transform', 'watershed'),\n",
    "    distance_bins=kwargs.get('distance_bins', 4),\n",
    "    erosion_width=kwargs.get('erosion_width', 0),\n",
    "    dilation_radius=kwargs.get('dilation_radius', 1),\n",
    "    output_dir='notebooks',\n",
    "    model_name='test_model',\n",
    "    export_dir='s3://deepcell-output/models',\n",
    "    log_dir='s3://deepcell-output/tensorboard_logs')"
   ]
  },
  {
   "cell_type": "markdown",
   "metadata": {},
   "source": [
    "## Load images into numpy arrays"
   ]
  },
  {
   "cell_type": "code",
   "execution_count": null,
   "metadata": {},
   "outputs": [],
   "source": [
    "# helper functions\n",
    "\n",
    "DATA_DIR = '/data'\n",
    "RESHAPE_SIZE = 128\n",
    "RESIZE = False\n",
    "\n",
    "def make_dirs(prefix):\n",
    "    # create these directories if they do not exist\n",
    "    for d in (NPZ_DIR, MODEL_DIR, RESULTS_DIR):\n",
    "        try:\n",
    "            os.makedirs(os.path.join(d, prefix))\n",
    "            print('Created new directory:', os.path.join(d, prefix))\n",
    "        except OSError as exc:  # Guard against race condition\n",
    "            if exc.errno != errno.EEXIST:\n",
    "                raise"
   ]
  },
  {
   "cell_type": "code",
   "execution_count": null,
   "metadata": {},
   "outputs": [],
   "source": [
    "# This dataset has a directory structure like\n",
    "# data_directory\n",
    "# ---- set1\n",
    "# ---- ---- movie\n",
    "# ---- ---- ---- raw\n",
    "# ---- ---- ---- ---- img1.png\n",
    "# ---- ---- ---- annotated\n",
    "# ---- ---- ---- ---- img1.png\n",
    "# ---- set2\n",
    "# ---- ...\n",
    "\n",
    "hela_prefix = 'cells/HeLa/S3'\n",
    "hela_datafile = 'HeLa_S3'\n",
    "\n",
    "hela_movie_dirs = [os.path.join('set{}'.format(i), 'movie') for i in range(8)]\n",
    "hela_train_dirs = []\n",
    "for movie_dir in hela_movie_dirs:\n",
    "    full_movie_dir = os.path.join(DATA_DIR, hela_prefix, movie_dir)\n",
    "    for subdir in os.listdir(full_movie_dir):\n",
    "        hela_train_dirs.append(os.path.join(movie_dir, subdir))\n",
    "\n",
    "make_dirs(hela_prefix)\n",
    "\n",
    "# Create the training data\n",
    "make_training_data(\n",
    "    dimensionality=3,\n",
    "    direc_name=os.path.join(DATA_DIR, hela_prefix),\n",
    "    file_name_save=os.path.join(NPZ_DIR, hela_prefix, hela_datafile),\n",
    "    channel_names=[''],  # for iterating over stacks of images from a montage\n",
    "    training_direcs=hela_train_dirs,  # all training directories\n",
    "    reshape_size=None if not RESIZE else RESHAPE_SIZE,\n",
    "    num_frames=40,\n",
    "    montage_mode=False,  # annotation folder has montaged sub-dirs\n",
    "    annotation_name='',  # basically channel name but for annotated images\n",
    "    raw_image_direc='raw',\n",
    "    annotation_direc='annotated')\n",
    "\n",
    "if os.path.isfile(os.path.join(NPZ_DIR, hela_prefix, hela_datafile) + '.npz'):\n",
    "    print('\\nData saved to', os.path.join(NPZ_DIR, hela_prefix, hela_datafile) + '.npz')\n",
    "else:\n",
    "    raise Exception('Uh Oh!  Your data file did not save properly :(')"
   ]
  },
  {
   "cell_type": "code",
   "execution_count": null,
   "metadata": {},
   "outputs": [],
   "source": [
    "# This dataset has a directory structure like\n",
    "# data_directory\n",
    "# ---- set1\n",
    "# ---- ---- part_1\n",
    "# ---- ---- ---- movie\n",
    "# ---- ---- ---- ---- raw\n",
    "# ---- ---- ---- ---- ---- img1.png\n",
    "# ---- ---- ---- ---- annotated\n",
    "# ---- ---- ---- ---- ---- img1.png\n",
    "# ---- ---- part_2\n",
    "# ---- ---- ---- movie\n",
    "# ---- ---- ---- ---- raw\n",
    "# ---- ---- ---- ---- ---- img1.png\n",
    "# ---- ---- ---- ---- annotated\n",
    "# ---- ---- ---- ---- ---- img1.png\n",
    "# ---- set2\n",
    "# ---- ...\n",
    "\n",
    "hek_prefix = 'cells/HEK293/generic'\n",
    "hek_datafile = 'HEK293_generic'\n",
    "\n",
    "hek_movie_dirs = [os.path.join('set{}'.format(i), 'part_1', 'movie') for i in range(3)]\n",
    "hek_movie_dirs.extend([os.path.join('set{}'.format(i), 'part_2', 'movie') for i in range(3)])\n",
    "\n",
    "hek_train_dirs = []\n",
    "for movie_dir in hek_movie_dirs:\n",
    "    full_movie_dir = os.path.join(DATA_DIR, hek_prefix, movie_dir)\n",
    "    for subdir in os.listdir(full_movie_dir):\n",
    "        hek_train_dirs.append(os.path.join(movie_dir, subdir))\n",
    "\n",
    "make_dirs(hek_prefix)\n",
    "\n",
    "# Create the training data\n",
    "make_training_data(\n",
    "    dimensionality=3,\n",
    "    direc_name=os.path.join(DATA_DIR, hek_prefix),\n",
    "    file_name_save=os.path.join(NPZ_DIR, hek_prefix, hek_datafile),\n",
    "    channel_names=[''],  # for iterating over stacks of images from a montage\n",
    "    training_direcs=hek_train_dirs,  # all training directories\n",
    "    reshape_size=None if not RESIZE else RESHAPE_SIZE,\n",
    "    num_frames=30,\n",
    "    montage_mode=False,  # annotation folder has montaged sub-dirs\n",
    "    annotation_name='',  # basically channel name but for annotated images\n",
    "    raw_image_direc='raw',\n",
    "    annotation_direc='annotated')\n",
    "\n",
    "if os.path.isfile(os.path.join(NPZ_DIR, hek_prefix, hek_datafile) + '.npz'):\n",
    "    print('\\nData saved to', os.path.join(NPZ_DIR, hek_prefix, hek_datafile) + '.npz')\n",
    "else:\n",
    "    raise Exception('Uh Oh!  Your data file did not save properly :(')"
   ]
  },
  {
   "cell_type": "code",
   "execution_count": null,
   "metadata": {},
   "outputs": [],
   "source": []
  }
 ],
 "metadata": {
  "kernelspec": {
   "display_name": "Python 3",
   "language": "python",
   "name": "python3"
  },
  "language_info": {
   "codemirror_mode": {
    "name": "ipython",
    "version": 3
   },
   "file_extension": ".py",
   "mimetype": "text/x-python",
   "name": "python",
   "nbconvert_exporter": "python",
   "pygments_lexer": "ipython3",
   "version": "3.5.2"
  }
 },
 "nbformat": 4,
 "nbformat_minor": 2
}
