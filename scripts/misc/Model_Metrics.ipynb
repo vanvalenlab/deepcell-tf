{
 "cells": [
  {
   "cell_type": "code",
   "execution_count": 13,
   "metadata": {},
   "outputs": [],
   "source": [
    "import os\n",
    "import numpy as np\n",
    "\n",
    "import matplotlib.pyplot as plt\n",
    "from skimage.io import imshow\n",
    "\n",
    "import skimage.measure\n",
    "\n",
    "import deepcell.datasets\n",
    "from deepcell import metrics"
   ]
  },
  {
   "cell_type": "markdown",
   "metadata": {},
   "source": [
    "# Load data"
   ]
  },
  {
   "cell_type": "code",
   "execution_count": 4,
   "metadata": {},
   "outputs": [
    {
     "name": "stdout",
     "output_type": "stream",
     "text": [
      "Downloading data from https://deepcell-data.s3.amazonaws.com/nuclei/HeLa_S3.npz\n",
      "6370107392/6370099814 [==============================] - 136s 0us/step\n",
      "X.shape: (5760, 216, 256, 1)\n",
      "y.shape: (5760, 216, 256, 1)\n"
     ]
    }
   ],
   "source": [
    "# Download the data (saves to ~/.keras/datasets)\n",
    "filename = 'HeLa_S3.npz'\n",
    "(X_train, y_train), (X_test, y_test) = deepcell.datasets.hela_s3.load_data(filename)\n",
    "\n",
    "print('X.shape: {}\\ny.shape: {}'.format(X_train.shape, y_train.shape))"
   ]
  },
  {
   "cell_type": "markdown",
   "metadata": {},
   "source": [
    "# Instantiate model from saved weights"
   ]
  },
  {
   "cell_type": "markdown",
   "metadata": {},
   "source": [
    "First instantiate a model from the deepcell `model_zoo`."
   ]
  },
  {
   "cell_type": "code",
   "execution_count": 7,
   "metadata": {},
   "outputs": [],
   "source": [
    "from deepcell import model_zoo\n",
    "\n",
    "fgbg_model = model_zoo.bn_feature_net_skip_2D(\n",
    "    n_features=2,  # segmentation mask (is_cell, is_not_cell)\n",
    "    receptive_field=61,\n",
    "    n_skips=3,\n",
    "    n_conv_filters=32,\n",
    "    n_dense_filters=128,\n",
    "    input_shape=tuple(X_train.shape[1:]),\n",
    "    last_only=False)"
   ]
  },
  {
   "cell_type": "markdown",
   "metadata": {},
   "source": [
    "Compile the model and load weights from a previously trained model."
   ]
  },
  {
   "cell_type": "code",
   "execution_count": 8,
   "metadata": {},
   "outputs": [
    {
     "name": "stdout",
     "output_type": "stream",
     "text": [
      "WARNING:tensorflow:Output \"model\" missing from loss dictionary. We assume this was done on purpose. The fit and evaluate APIs will not be expecting any data to be passed to \"model\".\n",
      "WARNING:tensorflow:Output \"model_1\" missing from loss dictionary. We assume this was done on purpose. The fit and evaluate APIs will not be expecting any data to be passed to \"model_1\".\n",
      "WARNING:tensorflow:Output \"model_2\" missing from loss dictionary. We assume this was done on purpose. The fit and evaluate APIs will not be expecting any data to be passed to \"model_2\".\n",
      "WARNING:tensorflow:Output \"model_3\" missing from loss dictionary. We assume this was done on purpose. The fit and evaluate APIs will not be expecting any data to be passed to \"model_3\".\n"
     ]
    }
   ],
   "source": [
    "from tensorflow.keras.optimizers import SGD\n",
    "\n",
    "fgbg_model.compile(SGD(lr=0.01, decay=1e-6, momentum=0.9, nesterov=True),metrics=['accuracy'])\n",
    "fgbg_model.load_weights('/models/conv_fgbg_model.h5')"
   ]
  },
  {
   "cell_type": "markdown",
   "metadata": {},
   "source": [
    "# Generate predictions from test data"
   ]
  },
  {
   "cell_type": "code",
   "execution_count": 20,
   "metadata": {},
   "outputs": [],
   "source": [
    "predict = fgbg_model.predict(X_test)[-1]"
   ]
  },
  {
   "cell_type": "markdown",
   "metadata": {},
   "source": [
    "Use `skimage.measure.label` to identify discrete objects (nuclei) in the prediction data."
   ]
  },
  {
   "cell_type": "code",
   "execution_count": 32,
   "metadata": {},
   "outputs": [],
   "source": [
    "predict_lbl = skimage.measure.label(predict[:,:,:,1]>0.5, connectivity=2)"
   ]
  },
  {
   "cell_type": "markdown",
   "metadata": {},
   "source": [
    "Visualize the image at each stage in processing."
   ]
  },
  {
   "cell_type": "code",
   "execution_count": 33,
   "metadata": {},
   "outputs": [
    {
     "name": "stdout",
     "output_type": "stream",
     "text": [
      "1194\n"
     ]
    },
    {
     "data": {
      "text/plain": [
       "Text(0.5, 1.0, 'Labeled Truth')"
      ]
     },
     "execution_count": 33,
     "metadata": {},
     "output_type": "execute_result"
    },
    {
     "data": {
      "image/png": "[encoded data removed]",
      "text/plain": [
       "<Figure size 720x576 with 3 Axes>"
      ]
     },
     "metadata": {
      "needs_background": "light"
     },
     "output_type": "display_data"
    }
   ],
   "source": [
    "# Select a random sample to view\n",
    "i = np.random.randint(0,high=1440)\n",
    "print(i)\n",
    "\n",
    "fig,ax = plt.subplots(1,3,figsize=(10,8))\n",
    "ax[0].imshow(predict[i,:,:,1])\n",
    "ax[0].set_title('Prediction')\n",
    "ax[1].imshow(predict_lbl[i,:,:])\n",
    "ax[1].set_title('Labeled Prediction')\n",
    "ax[2].imshow(y_test[i,:,:,0])\n",
    "ax[2].set_title('Labeled Truth')"
   ]
  },
  {
   "cell_type": "markdown",
   "metadata": {},
   "source": [
    "# Run metrics"
   ]
  },
  {
   "cell_type": "markdown",
   "metadata": {},
   "source": [
    "Deepcell's metrics for assessing model accuracy take in two arrays as inputs:\n",
    "1. A 3D array (sample,x,y) containing the labeled ground truth annotation data\n",
    "2. A 3D array (sample,x,y) containing the labeled prediction data."
   ]
  },
  {
   "cell_type": "markdown",
   "metadata": {},
   "source": [
    "## Pixel Based"
   ]
  },
  {
   "cell_type": "markdown",
   "metadata": {},
   "source": [
    "The first metric assess accuracy on a pixel by pixel basis. This does not help us assess the accuracy of our model in terms of nuclear classification."
   ]
  },
  {
   "cell_type": "code",
   "execution_count": 35,
   "metadata": {},
   "outputs": [
    {
     "name": "stdout",
     "output_type": "stream",
     "text": [
      "\n",
      "____________________Pixel-based statistics____________________\n",
      "\n",
      "Dice: 0.9012\n",
      "Jaccard: 0.8202\n",
      "\n",
      "Precision: 0.8412\n",
      "Recall: 0.9704\n",
      "F-measure: 0.9012\n"
     ]
    }
   ],
   "source": [
    "metrics.stats_pixelbased(y_test[:,:,:,0],predict_lbl)"
   ]
  },
  {
   "cell_type": "markdown",
   "metadata": {},
   "source": [
    "The statistics in used in this function are calculated as follows given the true labels ($T$) and predicted labels ($P$):\n",
    "$$ \\text{Dice} = \\frac{2|T\\cap P|}{|T|+|P|} $$"
   ]
  },
  {
   "cell_type": "markdown",
   "metadata": {},
   "source": [
    "$$ \\text{Jaccard} = \\frac{|T\\cap P|}{|T\\cup P|} $$"
   ]
  },
  {
   "cell_type": "markdown",
   "metadata": {},
   "source": [
    "$$ \\text{Precision} = \\frac{|T\\cap P|}{|P|} $$\n",
    "$$ \\text{Recall} = \\frac{|T\\cap P|}{|T|} $$\n",
    "$$ \\text{F-Measure} = \\frac{2\\ast\\text{Precision}\\ast\\text{Recall}}{\\text{Precision}+\\text{Recall}} $$"
   ]
  },
  {
   "cell_type": "markdown",
   "metadata": {},
   "source": [
    "## Object Based"
   ]
  },
  {
   "cell_type": "markdown",
   "metadata": {},
   "source": [
    "The corresponding function to test object-based accuracy typically takes longer to run."
   ]
  },
  {
   "cell_type": "code",
   "execution_count": 41,
   "metadata": {},
   "outputs": [
    {
     "name": "stdout",
     "output_type": "stream",
     "text": [
      "\n",
      "____________________Object-based statistics____________________\n",
      "\n",
      "Intersection over Union thresholded at 0.5 for object detection\n",
      "Dice/F1 index: 0.9034\n",
      "Jaccard index: 0.8238\n",
      "Number of cells predicted: 639\n",
      "Number of cells present in ground truth: 667\n",
      "Accuracy: 82.7586%\n",
      "\n",
      "#false positives: 87\t% of total error: 52.4096\t% of predicted incorrect: 13.615\n",
      "#false negatives: 79\t% of total error: 47.5904\t% of ground truth missed: 11.8441\n",
      "#incorrect merges: 35\t% of ground truth merged: 5.2474\n",
      "#incorrect divisions: 1\t% of ground truth divided: 0.1499\n"
     ]
    }
   ],
   "source": [
    "metrics.stats_objectbased(y_test[:100,:,:,0],predict_lbl[:100])"
   ]
  },
  {
   "cell_type": "markdown",
   "metadata": {},
   "source": [
    "Objects are determined to be a match if their Jaccard score was greater than 0.5. The statistics displayed above were calculated with the following terms: false positives ($FP$), false negatives ($FN$), and true positives ($TP$)."
   ]
  }
 ],
 "metadata": {
  "kernelspec": {
   "display_name": "Python 3",
   "language": "python",
   "name": "python3"
  },
  "language_info": {
   "codemirror_mode": {
    "name": "ipython",
    "version": 3
   },
   "file_extension": ".py",
   "mimetype": "text/x-python",
   "name": "python",
   "nbconvert_exporter": "python",
   "pygments_lexer": "ipython3",
   "version": "3.5.2"
  }
 },
 "nbformat": 4,
 "nbformat_minor": 2
}
