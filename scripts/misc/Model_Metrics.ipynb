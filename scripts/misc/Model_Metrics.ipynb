{
 "cells": [
  {
   "cell_type": "code",
   "execution_count": 1,
   "metadata": {},
   "outputs": [
    {
     "name": "stderr",
     "output_type": "stream",
     "text": [
      "Using TensorFlow backend.\n"
     ]
    }
   ],
   "source": [
    "import os\n",
    "import numpy as np\n",
    "\n",
    "import matplotlib.pyplot as plt\n",
    "from skimage.io import imshow\n",
    "\n",
    "from skimage.measure import label\n",
    "\n",
    "import deepcell.datasets\n",
    "from deepcell import metrics"
   ]
  },
  {
   "cell_type": "markdown",
   "metadata": {},
   "source": [
    "# Load data"
   ]
  },
  {
   "cell_type": "code",
   "execution_count": 2,
   "metadata": {},
   "outputs": [
    {
     "name": "stdout",
     "output_type": "stream",
     "text": [
      "Downloading data from https://deepcell-data.s3.amazonaws.com/nuclei/HeLa_S3.npz\n",
      "6370107392/6370099814 [==============================] - 162s 0us/step\n",
      "X.shape: (5760, 216, 256, 1)\n",
      "y.shape: (5760, 216, 256, 1)\n"
     ]
    }
   ],
   "source": [
    "# Download the data (saves to ~/.keras/datasets)\n",
    "filename = 'HeLa_S3.npz'\n",
    "(X_train, y_train), (X_test, y_test) = deepcell.datasets.hela_s3.load_data(filename)\n",
    "\n",
    "print('X.shape: {}\\ny.shape: {}'.format(X_train.shape, y_train.shape))"
   ]
  },
  {
   "cell_type": "markdown",
   "metadata": {},
   "source": [
    "# Instantiate model from saved weights"
   ]
  },
  {
   "cell_type": "markdown",
   "metadata": {},
   "source": [
    "First instantiate a model from the deepcell `model_zoo`."
   ]
  },
  {
   "cell_type": "code",
   "execution_count": 3,
   "metadata": {},
   "outputs": [],
   "source": [
    "from deepcell import model_zoo\n",
    "\n",
    "fgbg_model = model_zoo.bn_feature_net_skip_2D(\n",
    "    n_features=2,  # segmentation mask (is_cell, is_not_cell)\n",
    "    receptive_field=61,\n",
    "    n_skips=3,\n",
    "    n_conv_filters=32,\n",
    "    n_dense_filters=128,\n",
    "    input_shape=tuple(X_train.shape[1:]),\n",
    "    last_only=False)"
   ]
  },
  {
   "cell_type": "markdown",
   "metadata": {},
   "source": [
    "Compile the model and load weights from a previously trained model."
   ]
  },
  {
   "cell_type": "code",
   "execution_count": 4,
   "metadata": {},
   "outputs": [
    {
     "name": "stdout",
     "output_type": "stream",
     "text": [
      "WARNING:tensorflow:Output \"model\" missing from loss dictionary. We assume this was done on purpose. The fit and evaluate APIs will not be expecting any data to be passed to \"model\".\n",
      "WARNING:tensorflow:Output \"model_1\" missing from loss dictionary. We assume this was done on purpose. The fit and evaluate APIs will not be expecting any data to be passed to \"model_1\".\n",
      "WARNING:tensorflow:Output \"model_2\" missing from loss dictionary. We assume this was done on purpose. The fit and evaluate APIs will not be expecting any data to be passed to \"model_2\".\n",
      "WARNING:tensorflow:Output \"model_3\" missing from loss dictionary. We assume this was done on purpose. The fit and evaluate APIs will not be expecting any data to be passed to \"model_3\".\n"
     ]
    }
   ],
   "source": [
    "from tensorflow.keras.optimizers import SGD\n",
    "\n",
    "fgbg_model.compile(SGD(lr=0.01, decay=1e-6, momentum=0.9, nesterov=True),metrics=['accuracy'])\n",
    "fgbg_model.load_weights('/models/conv_fgbg_model.h5')"
   ]
  },
  {
   "cell_type": "markdown",
   "metadata": {},
   "source": [
    "# Generate predictions from test data"
   ]
  },
  {
   "cell_type": "code",
   "execution_count": 5,
   "metadata": {},
   "outputs": [],
   "source": [
    "predict = fgbg_model.predict(X_test)[-1]"
   ]
  },
  {
   "cell_type": "markdown",
   "metadata": {},
   "source": [
    "Use `skimage.measure.label` to identify discrete objects (nuclei) in the prediction data."
   ]
  },
  {
   "cell_type": "code",
   "execution_count": 6,
   "metadata": {},
   "outputs": [],
   "source": [
    "predict_lbl = label((predict[:,:,:,1]>0.5).astype('int'))"
   ]
  },
  {
   "cell_type": "markdown",
   "metadata": {},
   "source": [
    "Visualize the image at each stage in processing."
   ]
  },
  {
   "cell_type": "code",
   "execution_count": 45,
   "metadata": {},
   "outputs": [
    {
     "name": "stdout",
     "output_type": "stream",
     "text": [
      "1085\n",
      "INFO:tensorflow:0 samples processed\n",
      "\n",
      "____________Object-based statistics____________\n",
      "\n",
      "Number of true cells:\t\t 13\n",
      "Number of predicted cells:\t 11\n",
      "\n",
      "True positives:  10\tAccuracy:   76.92%\n",
      "\n",
      "False positives: 0\tPerc Error: 0.0%\n",
      "False negatives: 10\tPerc Error: 50.0%\n",
      "Merges:\t\t 1\tPerc Error: 50.0%\n",
      "Splits:\t\t 0\tPerc Error: 0.0%\n",
      "\n",
      "SEG: 0.8597\n"
     ]
    },
    {
     "data": {
      "image/png": "[encoded data removed]",
      "text/plain": [
       "<Figure size 720x576 with 3 Axes>"
      ]
     },
     "metadata": {
      "needs_background": "light"
     },
     "output_type": "display_data"
    }
   ],
   "source": [
    "# Select a random sample to view\n",
    "i = np.random.randint(0,high=1440)\n",
    "print(i)\n",
    "\n",
    "y_true = label(y_test[i:i+1,:,:,0].astype('int'))\n",
    "y_pred = label(predict_lbl[i:i+1])\n",
    "\n",
    "fig,ax = plt.subplots(1,3,figsize=(10,8))\n",
    "ax[0].imshow(predict[i,:,:,1])\n",
    "ax[0].set_title('Prediction')\n",
    "# Repeat labeling to get number assignments in range for this particular frame\n",
    "ax[1].imshow(y_pred[0],cmap='jet')\n",
    "ax[1].set_title('Labeled Prediction')\n",
    "ax[2].imshow(y_true[0],cmap='jet')\n",
    "ax[2].set_title('Labeled Truth')\n",
    "\n",
    "m = metrics.Metrics('singleton',seg=True)\n",
    "m.calc_object_stats(y_true,y_pred)"
   ]
  },
  {
   "cell_type": "markdown",
   "metadata": {},
   "source": [
    "# Run metrics on complete test set"
   ]
  },
  {
   "cell_type": "code",
   "execution_count": 47,
   "metadata": {},
   "outputs": [
    {
     "data": {
      "text/plain": [
       "<module 'deepcell.metrics' from '/usr/local/lib/python3.5/dist-packages/deepcell/metrics.py'>"
      ]
     },
     "execution_count": 47,
     "metadata": {},
     "output_type": "execute_result"
    }
   ],
   "source": [
    "reload(metrics)"
   ]
  },
  {
   "cell_type": "code",
   "execution_count": 48,
   "metadata": {},
   "outputs": [
    {
     "name": "stdout",
     "output_type": "stream",
     "text": [
      "INFO:tensorflow:0 samples processed\n"
     ]
    },
    {
     "name": "stderr",
     "output_type": "stream",
     "text": [
      "/usr/local/lib/python3.5/dist-packages/deepcell/metrics.py:595: RuntimeWarning: Mean of empty slice\n",
      "  self.seg_score = np.nanmean(iou_mask[self.true_pos_ind[0], self.true_pos_ind[1]])\n"
     ]
    },
    {
     "name": "stdout",
     "output_type": "stream",
     "text": [
      "INFO:tensorflow:200 samples processed\n",
      "INFO:tensorflow:400 samples processed\n",
      "INFO:tensorflow:600 samples processed\n",
      "INFO:tensorflow:800 samples processed\n",
      "INFO:tensorflow:1000 samples processed\n",
      "INFO:tensorflow:1200 samples processed\n",
      "INFO:tensorflow:1400 samples processed\n",
      "\n",
      "____________Object-based statistics____________\n",
      "\n",
      "Number of true cells:\t\t 10338\n",
      "Number of predicted cells:\t 9917\n",
      "\n",
      "True positives:  8396\tAccuracy:   81.21000000000001%\n",
      "\n",
      "False positives: 582\tPerc Error: 35.75%\n",
      "False negatives: 8396\tPerc Error: 22.36%\n",
      "Merges:\t\t 681\tPerc Error: 41.83%\n",
      "Splits:\t\t 1\tPerc Error: 0.06%\n",
      "\n",
      "SEG: 0.8439 \n",
      "\n",
      "CPU times: user 1min 3s, sys: 216 ms, total: 1min 3s\n",
      "Wall time: 1min 3s\n"
     ]
    }
   ],
   "source": [
    "%%time\n",
    "m = metrics.Metrics('fgbg',seg=True)\n",
    "\n",
    "y_true_lbl = y_test[:,:,:,0].astype('int')\n",
    "y_pred_lbl = predict_lbl\n",
    "\n",
    "m.calc_object_stats(y_true_lbl,y_pred_lbl)"
   ]
  },
  {
   "cell_type": "markdown",
   "metadata": {},
   "source": [
    "Note: pixel based statistics are also available from `m.all_pixel_stats`, but it requires that the ground truth annotation be transformed to match the features output by the model prediction.\n",
    "\n",
    "Additionally, the final metric report can be saved using `m.save_to_json(m.output)` after object and/or pixel statistics have been generated.\n",
    "\n",
    "Currently this dataset has small enough frame sizes that they can be looped over in `m.calc_object_stats` without too much of a problem. For datasets with larger frame sizes, the function `metrics.split_stack` can be used to reshape the data into a managable size."
   ]
  }
 ],
 "metadata": {
  "kernelspec": {
   "display_name": "Python 3",
   "language": "python",
   "name": "python3"
  },
  "language_info": {
   "codemirror_mode": {
    "name": "ipython",
    "version": 3
   },
   "file_extension": ".py",
   "mimetype": "text/x-python",
   "name": "python",
   "nbconvert_exporter": "python",
   "pygments_lexer": "ipython3",
   "version": "3.5.2"
  }
 },
 "nbformat": 4,
 "nbformat_minor": 2
}
